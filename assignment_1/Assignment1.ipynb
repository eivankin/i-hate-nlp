{
 "cells": [
  {
   "cell_type": "markdown",
   "metadata": {
    "id": "RKboZnAdgrRM"
   },
   "source": [
    "# [NLP] Assignment 1: Tokenization\n",
    "\n",
    "In this assignment, you need to tokenize the text of the Twitter(X) users posts(tweets). The assignment consists of two tasks. When you finish all the tasks, create a GitHub repository for this assignment (you can use this repo later for the other assignments) and submit this notebook in the repository. Leave `requirements.txt` file if your code requires additional installations. Submit the link to the repository in Moodle.\n",
    "\n",
    "The [data](https://drive.google.com/file/d/15x_wPAflvYQ2Xh38iNQGrqUIWLj5l5Nw/view?usp=share_link) contains 5 files whereby each contains 44 tweets. Each tweet is separated by a newline."
   ]
  },
  {
   "cell_type": "markdown",
   "metadata": {
    "id": "aLDjjAvemUP_"
   },
   "source": [
    "## Task 1. Tokenize some tweets manually (20 points)\n",
    "\n",
    "As a first task you need to tokenize first 15 tweets from `file2` by hand. This will allow you to understand the problem from a linguistic point of view. The guidelines for tweet tokenization are as follows:\n",
    "\n",
    "- Each smiley is a separate token\n",
    "- Each hashtag is an individual token. Each user reference is an individual token\n",
    "- If a word has spaces between them then it is converted to a single token\n",
    "- All punctuations are individual tokens. This includes double-quotes and single quotes also\n",
    "- A URL is a single token\n",
    "\n",
    "Example of output\n",
    "\n",
    "    Input tweet\n",
    "    @xfranman Old age has made N A T O!\n",
    "\n",
    "    Tokenized tweet (separated by comma)\n",
    "    @xfranman , Old , age , has , made , NATO , !"
   ]
  },
  {
   "cell_type": "code",
   "execution_count": null,
   "outputs": [],
   "source": [
    "!unzip Assignment1_data.zip -d ./tweets"
   ],
   "metadata": {
    "collapsed": false
   }
  },
  {
   "cell_type": "markdown",
   "metadata": {
    "id": "7KKKwTidnzUw"
   },
   "source": [
    "    1. Input tweet\n",
    "    Camping in Maine for the weekend. Hey Dad, Mama Loves YOU: http://www.mamapalooza.com\n",
    "    1. Tokenized tweet\n",
    "    Camping , in , Maine , for , the , weekend , . , Hey , Dad , , , Mama , Loves , YOU , : , http://www.mamapalooza.com\n",
    "\n",
    "    2. Input tweet\n",
    "    Its american tradition bitch\n",
    "    2. Tokenized tweet\n",
    "    Its , american , tradition , bitch\n",
    "\n",
    "    3. Input tweet\n",
    "    @ThroughTheVoid They love it! The only pleasure they get in life. I actually do that. I'm sure I hear a tiny squeak... Then louder ones\n",
    "    3. Tokenized tweet\n",
    "    @ThroughTheVoid , They , love , it , ! , The , only , pleasure , they , get , in , life , . , I , actually , do , that , . , I , ' , m , sure , I , hear , a , tiny , squeak , ... , Then , louder , ones\n",
    "\n",
    "    4. Input tweet\n",
    "    \" RT @latti: @AbsoHilare stop tweeting in church! Lol <--- \"\"I tweet because I'm happy, I tweet because I'm free\"\" LOL!\"\n",
    "    4. Tokenized tweet\n",
    "    \" , RT , @latti , : , @AbsoHilare , stop , tweeting , in , church , ! , Lol , < , - , - , - , \" , \" , I , tweet , because , I , ' , m , happy , , , I , tweet , because , I , ' , m , free , \" , \" , LOL , ! , \"\n",
    "\n",
    "    5. Input tweet\n",
    "    Samsung Mini S2 portable HDD graced with colors that perfectly match your tacky beach gear: Sammy's done it aga.. http://tinyurl.com/lb5p6m\n",
    "    5. Tokenized tweet\n",
    "    Samsung , Mini , S2 , portable , HDD , graced , with , colors , that , perfectly , match , your , tacky , beach , gear , : , Sammy , ' , s , done , it , aga , . , . , http://tinyurl.com/lb5p6m\n",
    "\n",
    "    6. Input tweet\n",
    "    @dialloc congrats on finding your way over. it may be slow going at first. hang in there. it's kinda cool when u get up to speed.\n",
    "    6. Tokenized tweet\n",
    "    @dialloc , congrats , on , finding , your , way , over , . , it , may , be , slow , going , at , first , . , hang , in , there , . , it , ' , s , kinda , cool , when , u , get , up , to , speed , .\n",
    "\n",
    "    7. Input tweet\n",
    "    iPhone activation delays continue, Apple offers $30 http://twt.gs/l3Ki\n",
    "    7. Tokenized tweet\n",
    "    iPhone , activation , delays , continue , , , Apple , offers , $ , 30 , http://twt.gs/l3Ki\n",
    "\n",
    "    8. Input tweet\n",
    "    RT @GoogleAtWork Gmail maximum attachment size now 25MB http://bit.ly/62mjw Nice!!!\n",
    "    8. Tokenized tweet\n",
    "    RT , @GoogleAtWork , Gmail , maximum , attachment , size , now , 25MB , http://bit.ly/62mjw , Nice , ! , ! , !\n",
    "\n",
    "    9. Input tweet\n",
    "    RT @acfou The Ads Won Awards for Crispin; But Did Nothing for Client BurgerKing's Sales/Marketshare - Big Surprise - http://ping.fm/vw8TI\n",
    "    9. Tokenized tweet\n",
    "    RT , @acfou , The , Ads , Won , Awards , for , Crispin , ; , But , Did , Nothing , for , Client , BurgerKing , ' , s , Sales , / , Marketshare , - , Big , Surprise , - , http://ping.fm/vw8TI\n",
    "\n",
    "    10. Input tweet\n",
    "    Hey doll! Great I missed True Blood yday boo lol Rt @FrankBanuat78 @jhillstephens Hello Sunshine how are u today? :-)\n",
    "    10. Tokenized tweet\n",
    "    Hey , doll , ! , Great , I , missed , True , Blood , yday , boo , lol , Rt , @FrankBanuat78 , @jhillstephens , Hello , Sunshine , how , are , u , today , ? , :-)\n",
    "\n",
    "    11. Input tweet\n",
    "    Australian artist Pogo made these free songs primarily from sampled audio from Alice In Wonderland. http://www.last.fm/music/Pogo/Wonderland\n",
    "    11. Tokenized tweet\n",
    "    Australian , artist , Pogo , made , these , free , songs , primarily , from , sampled , audio , from , Alice , In , Wonderland , . , http://www.last.fm/music/Pogo/Wonderland\n",
    "\n",
    "    12. Input tweet\n",
    "    @mppritchard they wanted to sell all the preorders & then sell all of the ones they had in stock to those that just walked in. Can't do both\n",
    "    12. Tokenized tweet\n",
    "    @mppritchard , they , wanted , to , sell , all , the , preorders , & , then , sell , all , of , the , ones , they , had , in , stock , to , those , that , just , walked , in , . , Can , ' , t , do , both\n",
    "\n",
    "    13. Input tweet\n",
    "    Incoming: Frightened Rabbit, Sept. 22 (Tucson): If Fat Cat Records is going to send three great bands from Scot.. http://tinyurl.com/nz6xcv\n",
    "    13. Tokenized tweet\n",
    "    Incoming , : , Frightened , Rabbit , , , Sept , . , 22 , ( , Tucson , ) , : , If , Fat , Cat , Records , is , going , to , send , three , great , bands , from , Scot , . , . , http://tinyurl.com/nz6xcv\n",
    "\n",
    "    14. Input tweet\n",
    "    Hey @ginoandfran please greet philip! (GinoandFran live > http://ustre.am/2YyQ)\n",
    "    14. Tokenized tweet\n",
    "    Hey , @ginoandfran , please , greet , philip , ! , ( , GinoandFran , live , > , http://ustre.am/2YyQ , )\n",
    "\n",
    "    15. Input tweet\n",
    "    Ik weet niet wie er achter de T-Mobile iPhone Twitter zit maar ik vind het niet echt 'corporate' taalgebruik... Best vreemd eigenlijk\n",
    "    15. Tokenized tweet\n",
    "    Ik , weet , niet , wie , er , achter , de , T , - , Mobile , iPhone , Twitter , zit , maar , ik , vind , het , niet , echt , ' , corporate , ' , taalgebruik , . , . , . , Best , vreemd , eigenlijk"
   ]
  },
  {
   "cell_type": "markdown",
   "metadata": {
    "id": "-2J2AD2nmUhi"
   },
   "source": [
    "## Task 2. Implement [Byte-Pair Encoding(BPE)](https://arxiv.org/pdf/1508.07909.pdf) Tokenizer (80 points)\n",
    "\n",
    "### Task 2.1. Implementation (60 points)\n",
    "\n",
    "Implement the tokenizer as the BPETokenizer class:\n",
    "* Implement `train` method that learns merges and builds the vocabulary of the specified `vocab_size` (25 points).\n",
    "* Implement `tokenize` method that should tokenize the text according to the learnt merges (25 points).\n",
    "\n",
    "Your code should have docstrings and comments (10 points)."
   ]
  },
  {
   "cell_type": "code",
   "execution_count": 26,
   "metadata": {
    "id": "E--vaPxPoE6t",
    "ExecuteTime": {
     "end_time": "2024-02-03T16:26:16.046098359Z",
     "start_time": "2024-02-03T16:26:15.967440038Z"
    }
   },
   "outputs": [],
   "source": [
    "from typing import NewType, Generator\n",
    "from collections import Counter\n",
    "\n",
    "# Define some types to prevent logical errors in tokenizer\n",
    "Token = NewType(\"Token\", str)\n",
    "Word = NewType(\"Word\", str)\n",
    "RawSentence = NewType(\"RawSentence\", str)\n",
    "Sentence = NewType(\"Sentence\", list[Word])\n",
    "TokenPair = NewType(\"TokenPair\", tuple[Token, Token])\n",
    "WordTokens = NewType(\"WordTokens\", tuple[Token, ...])\n",
    "\n",
    "\n",
    "class BPETokenizer:\n",
    "    \"\"\"References: https://martinlwx.github.io/en/the-bpe-tokenizer/\"\"\"\n",
    "    END_OF_WORD: Token = Token(\"</w>\")\n",
    "\n",
    "    max_vocab_size: int\n",
    "    vocab: set[Token]\n",
    "    word_freq: Counter[Word]\n",
    "    splits: dict[Word, WordTokens]\n",
    "    merges: dict[TokenPair, Token]\n",
    "\n",
    "    def __init__(self, vocab_size: int = 100) -> None:\n",
    "        self.max_vocab_size = vocab_size\n",
    "        self.clear()\n",
    "\n",
    "    @staticmethod\n",
    "    def pre_tokenize_sentence(sentence: RawSentence) -> Sentence:\n",
    "        \"\"\"\n",
    "        Splits the sentence string into words using `str.split()`\n",
    "        \"\"\"\n",
    "        return Sentence([Word(w) for w in sentence.split()])\n",
    "\n",
    "    @staticmethod\n",
    "    def pre_tokenize_corpus(corpus: list[RawSentence]) -> Generator[Word, None, None]:\n",
    "        \"\"\"\n",
    "        Calls `_pre_tokenize_sentence` for each sentence in the corpus.\n",
    "        Returns word generator.\n",
    "        \"\"\"\n",
    "        for sentence in corpus:\n",
    "            yield from BPETokenizer.pre_tokenize_sentence(sentence)\n",
    "\n",
    "    def clear(self) -> None:\n",
    "        \"\"\"Make tokenizer forget everything\"\"\"\n",
    "        self.vocab = set()\n",
    "        self.word_freq = Counter()\n",
    "        self.splits = {}\n",
    "        self.merges = {}\n",
    "\n",
    "    @staticmethod\n",
    "    def _get_word_chars(word: Word) -> tuple[Token, ...]:\n",
    "        return tuple(Token(c) for c in word) + (BPETokenizer.END_OF_WORD,)\n",
    "\n",
    "    def train(self, corpus: list[RawSentence]) -> None:\n",
    "        \"\"\"\n",
    "        Accepts corpus (list of sentences) for training.\n",
    "        Does not overwrite previous training results.\n",
    "        \"\"\"\n",
    "        if len(self.vocab) >= self.max_vocab_size:\n",
    "            # Skip the training if vocab is already full\n",
    "            return\n",
    "\n",
    "        self.word_freq += Counter(self.pre_tokenize_corpus(corpus))\n",
    "\n",
    "        for word in self.word_freq:\n",
    "            chars = self._get_word_chars(word)\n",
    "            self.splits[word] = WordTokens(chars)\n",
    "            self.vocab |= set(chars)\n",
    "\n",
    "        while len(self.vocab) < self.max_vocab_size:\n",
    "            pair_or_empty = self._get_pairs_freq().most_common(1)\n",
    "            if not pair_or_empty:\n",
    "                break\n",
    "            pair = pair_or_empty[0][0]\n",
    "            self._update_splits(pair)\n",
    "            new_token = Token(pair[0] + pair[1])\n",
    "\n",
    "            self.merges[pair] = new_token\n",
    "            self.vocab.add(new_token)\n",
    "\n",
    "    @staticmethod\n",
    "    def _get_word_pairs(word: WordTokens, freq: int) -> Generator[TokenPair, None, None]:\n",
    "        for i in range(len(word) - 1):\n",
    "            yield from (TokenPair((word[i], word[i + 1])) for _ in range(freq))\n",
    "\n",
    "    def _get_all_pairs(self) -> Generator[TokenPair, None, None]:\n",
    "        for word, freq in self.word_freq.items():\n",
    "            yield from self._get_word_pairs(self.splits[word], freq)\n",
    "\n",
    "    def _get_pairs_freq(self) -> Counter[TokenPair]:\n",
    "        return Counter(pair for pair in self._get_all_pairs())\n",
    "\n",
    "    @staticmethod\n",
    "    def _get_new_split(word: WordTokens, pair_to_merge: TokenPair) -> WordTokens:\n",
    "        new_split = WordTokens((word[0],))\n",
    "        for token in word[1:]:\n",
    "            if (new_split[-1], token) == pair_to_merge:\n",
    "                new_split = WordTokens(new_split[:-1] + (Token(new_split[-1] + token),))\n",
    "            else:\n",
    "                new_split = WordTokens(new_split + (token,))\n",
    "\n",
    "        assert \"\".join(new_split) == \"\".join(word), (word, new_split)\n",
    "        return new_split\n",
    "\n",
    "    def _update_splits(self, pair_to_merge: TokenPair) -> None:\n",
    "        for word, split in self.splits.items():\n",
    "            self.splits[word] = self._get_new_split(split, pair_to_merge)\n",
    "\n",
    "    def tokenize(self, text: RawSentence) -> tuple[Token, ...]:\n",
    "        \"\"\"Tokenizes a sentence or a whole text and returns a list of tokens.\"\"\"\n",
    "        return sum((self.tokenize_word(word) for word in self.pre_tokenize_sentence(text)), ())\n",
    "\n",
    "    def tokenize_word(self, word: Word) -> WordTokens:\n",
    "        \"\"\"Splits a single word into tokens.\"\"\"\n",
    "        initial_split = WordTokens(self._get_word_chars(word))\n",
    "        for pair_to_merge in self.merges:\n",
    "            initial_split = self._get_new_split(initial_split, pair_to_merge)\n",
    "        return initial_split"
   ]
  },
  {
   "cell_type": "code",
   "source": [
    "# Sanity check\n",
    "corpus = [\"highest higher lower lowest cooler coolest\"]\n",
    "\n",
    "tokenizer = BPETokenizer(vocab_size=17)\n",
    "tokenizer.train([RawSentence(s) for s in corpus])\n",
    "print(tokenizer.tokenize(\"highest\"))\n",
    "tokenizer.clear()\n",
    "print(tokenizer.tokenize(\"highest\"))"
   ],
   "metadata": {
    "colab": {
     "base_uri": "https://localhost:8080/"
    },
    "id": "oVUaBVjPLz2O",
    "outputId": "5a1aace1-d75d-4b0d-cf38-bd48ff503e5e",
    "ExecuteTime": {
     "end_time": "2024-02-03T16:26:17.143029393Z",
     "start_time": "2024-02-03T16:26:17.118258088Z"
    }
   },
   "execution_count": 27,
   "outputs": [
    {
     "name": "stdout",
     "output_type": "stream",
     "text": [
      "('h', 'i', 'g', 'h', 'est</w>')\n",
      "('h', 'i', 'g', 'h', 'e', 's', 't', '</w>')\n"
     ]
    }
   ]
  },
  {
   "cell_type": "markdown",
   "metadata": {
    "id": "yBDF-2E-oE6v"
   },
   "source": [
    "### Task 2.2. Analysis on Tweets Dataset (10 points)\n",
    "\n",
    "Train the BPE tokenizer on the tweets dataset. Try to tokenize the tweets with the tokenizer of different `vocab_size`. For example, train the BPE tokenizer with `vocab_size` of [base_vocab_size, 250, 500, 750, 1000]. Plot the dependency of the average length of the tokenized tweet by `vocab_size` to analyze how `vocab_size` affects the length of the tokenized tweet on average. Tell what `vocab_size` is preferrable and why."
   ]
  },
  {
   "cell_type": "code",
   "execution_count": 28,
   "metadata": {
    "id": "VeQ8ZKpmoE6w",
    "ExecuteTime": {
     "end_time": "2024-02-03T16:26:18.580275398Z",
     "start_time": "2024-02-03T16:26:18.576049023Z"
    }
   },
   "outputs": [],
   "source": [
    "from pathlib import Path\n",
    "\n",
    "\n",
    "def read_all_tweets(from_dir: Path = Path(\"./tweets\")):\n",
    "    all_data = \"\"\n",
    "    for file in from_dir.iterdir():\n",
    "        all_data += file.read_text()\n",
    "    return all_data"
   ]
  },
  {
   "cell_type": "code",
   "execution_count": 23,
   "outputs": [
    {
     "data": {
      "text/plain": "['@anitapuspasari waduh..',\n '\" Could journos please stop putting the word \"\"gate\"\" after everything they write... gate.\"']"
     },
     "execution_count": 23,
     "metadata": {},
     "output_type": "execute_result"
    }
   ],
   "source": [
    "tweets_data = RawSentence(read_all_tweets())\n",
    "tweets_corpus = [RawSentence(s) for s in tweets_data.split(\"\\n\")]\n",
    "tweets_corpus[:2]"
   ],
   "metadata": {
    "collapsed": false,
    "ExecuteTime": {
     "end_time": "2024-02-03T16:24:40.485794476Z",
     "start_time": "2024-02-03T16:24:40.475574113Z"
    }
   }
  },
  {
   "cell_type": "code",
   "execution_count": 24,
   "outputs": [],
   "source": [
    "def get_average_tweet_length(vocab_size: int):\n",
    "    tokenizer = BPETokenizer(vocab_size=vocab_size)\n",
    "    tokenizer.train(tweets_corpus)\n",
    "    all_tokens = tokenizer.tokenize(tweets_data)\n",
    "    return len(all_tokens) / len(tweets_corpus)"
   ],
   "metadata": {
    "collapsed": false,
    "ExecuteTime": {
     "end_time": "2024-02-03T16:24:40.794131779Z",
     "start_time": "2024-02-03T16:24:40.784242184Z"
    }
   }
  },
  {
   "cell_type": "code",
   "execution_count": null,
   "outputs": [],
   "source": [
    "vocab_sizes = [0, 250, 500, 750, 1000]\n",
    "average_tweet_lengths = [get_average_tweet_length(vocab_size) for vocab_size in vocab_sizes]"
   ],
   "metadata": {
    "collapsed": false
   }
  },
  {
   "cell_type": "code",
   "execution_count": 33,
   "outputs": [
    {
     "data": {
      "text/plain": "<Figure size 640x480 with 1 Axes>",
      "image/png": "[encoded data removed]"
     },
     "metadata": {},
     "output_type": "display_data"
    }
   ],
   "source": [
    "import matplotlib.pyplot as plt\n",
    "\n",
    "plt.title(\"Average tweet length (in tokens)\")\n",
    "plt.xlabel(\"vocab size\")\n",
    "plt.ylabel(\"average tweet length\")\n",
    "plt.ylim(0, 110)\n",
    "plt.plot(vocab_sizes, average_tweet_lengths)\n",
    "plt.show()"
   ],
   "metadata": {
    "collapsed": false,
    "ExecuteTime": {
     "end_time": "2024-02-03T16:28:55.550430386Z",
     "start_time": "2024-02-03T16:28:55.427871443Z"
    }
   }
  },
  {
   "cell_type": "markdown",
   "source": [
    "### Conclusion\n",
    "I think that the best `vocab_size` for BPE among considered is `500`. As the `vocab_size` increases, the average length of the tokenized tweet decreases, but after `500` the rate of decrease is no more significant."
   ],
   "metadata": {
    "collapsed": false
   }
  },
  {
   "cell_type": "markdown",
   "metadata": {
    "id": "hz5j3kewoE6y"
   },
   "source": [
    "### Task 2.3. Analysis on Dataset of Different Language (10 points)\n",
    "\n",
    "Find a small dataset of texts in a language other than English. The dataset size should be not greater than several megabytes.\n",
    "\n",
    "Train the BPE tokenizer on the dataset that you found. Try to tokenize the sentences from this dataset with the tokenizer of different `vocab_size`. Plot the dependency of the average length of the tokenized sentence by `vocab_size` to analyze how `vocab_size` affects the length of the tokenized sentence on average.\n",
    "\n",
    "Tell how the average length of the tokenized sentence differs from the average length of the tokenized tweet. Explain why."
   ]
  },
  {
   "cell_type": "markdown",
   "source": [
    "### Dataset selection"
   ],
   "metadata": {
    "collapsed": false
   }
  },
  {
   "cell_type": "markdown",
   "source": [
    "I searched by word \"отзыв\" in the kaggle and found a [dataset](https://www.kaggle.com/datasets/arsenycheplukov/onliner-review-dataset-ml-task/data) with 1500 reviews in Russian language from \"Onliner\" web shop."
   ],
   "metadata": {
    "collapsed": false
   }
  },
  {
   "cell_type": "code",
   "execution_count": null,
   "metadata": {
    "id": "MCxhwYhRoE60"
   },
   "outputs": [],
   "source": [
    "!kaggle datasets download -d arsenycheplukov/onliner-review-dataset-ml-task"
   ]
  },
  {
   "cell_type": "code",
   "execution_count": 38,
   "outputs": [
    {
     "name": "stdout",
     "output_type": "stream",
     "text": [
      "Archive:  onliner-review-dataset-ml-task.zip\r\n",
      "  inflating: reviews/onliner_review_dataset_test.xlsx  \r\n"
     ]
    }
   ],
   "source": [
    "!unzip onliner-review-dataset-ml-task.zip -d reviews"
   ],
   "metadata": {
    "collapsed": false,
    "ExecuteTime": {
     "end_time": "2024-02-03T17:32:17.830763694Z",
     "start_time": "2024-02-03T17:32:17.689590026Z"
    }
   }
  },
  {
   "cell_type": "code",
   "execution_count": 40,
   "outputs": [
    {
     "data": {
      "text/plain": "  Категория                                           Товар  \\\n0   нотбуки             Apple Macbook Air 13\" M1 2020 MGN63   \n1   нотбуки              Lenovo IdeaPad 3 15ALC6 82KU00MLRK   \n2   нотбуки              Lenovo IdeaPad 3 15ALC6 82KU00B3RK   \n3   нотбуки     HONOR MagicBook 15 2021 BMH-WFQ9HN 53011WHD   \n4   нотбуки  Machenike Star 15 S15-i512450H30504GF144LHD0BY   \n\n                                    Заголовок отзыва  \\\n0                          Не рекомендую, ненадежный   \n1                               Крайне не рекомендую   \n2                          Ничего не предвещало беды   \n3                                Экран - хуже некуда   \n4  что и стоило ожидать от такого бренда, названи...   \n\n   Оценка (количество звёзд) Комментарий к оценке  \\\n0                          1                 Жуть   \n1                          1                 Жуть   \n2                          1                 Жуть   \n3                          1                 Жуть   \n4                          1                 Жуть   \n\n                                         Достоинства  \\\n0  Хайп про ARM M1, много хороших отзывов, много ...   \n1                                Вес, характеристики   \n2                                       Обычный ноут   \n3                                           В отзыве   \n4                              за эти деньги их нет.   \n\n                                          Недостатки  \\\n0  Быстро царапается экран, медленные порты type ...   \n1                          Моторесурс, дикие нагревы   \n2  Похоже для него забыли изобрести кабель для sa...   \n3                                           В отзыве   \n4                                                все   \n\n                                               Отзыв  \n0  Являюсь \"счастливым\" обладателем данной модели...  \n1  Не рекомендую В сервисе ничего толком сделать ...  \n2  Дичь. В ноуте есть место и салазки для диска H...  \n3  По скорости и работе проблем нету, все ниже в ...  \n4  Здравствуйте, купил данный ноутбук 22.12.22, в...  ",
      "text/html": "<div>\n<style scoped>\n    .dataframe tbody tr th:only-of-type {\n        vertical-align: middle;\n    }\n\n    .dataframe tbody tr th {\n        vertical-align: top;\n    }\n\n    .dataframe thead th {\n        text-align: right;\n    }\n</style>\n<table border=\"1\" class=\"dataframe\">\n  <thead>\n    <tr style=\"text-align: right;\">\n      <th></th>\n      <th>Категория</th>\n      <th>Товар</th>\n      <th>Заголовок отзыва</th>\n      <th>Оценка (количество звёзд)</th>\n      <th>Комментарий к оценке</th>\n      <th>Достоинства</th>\n      <th>Недостатки</th>\n      <th>Отзыв</th>\n    </tr>\n  </thead>\n  <tbody>\n    <tr>\n      <th>0</th>\n      <td>нотбуки</td>\n      <td>Apple Macbook Air 13\" M1 2020 MGN63</td>\n      <td>Не рекомендую, ненадежный</td>\n      <td>1</td>\n      <td>Жуть</td>\n      <td>Хайп про ARM M1, много хороших отзывов, много ...</td>\n      <td>Быстро царапается экран, медленные порты type ...</td>\n      <td>Являюсь \"счастливым\" обладателем данной модели...</td>\n    </tr>\n    <tr>\n      <th>1</th>\n      <td>нотбуки</td>\n      <td>Lenovo IdeaPad 3 15ALC6 82KU00MLRK</td>\n      <td>Крайне не рекомендую</td>\n      <td>1</td>\n      <td>Жуть</td>\n      <td>Вес, характеристики</td>\n      <td>Моторесурс, дикие нагревы</td>\n      <td>Не рекомендую В сервисе ничего толком сделать ...</td>\n    </tr>\n    <tr>\n      <th>2</th>\n      <td>нотбуки</td>\n      <td>Lenovo IdeaPad 3 15ALC6 82KU00B3RK</td>\n      <td>Ничего не предвещало беды</td>\n      <td>1</td>\n      <td>Жуть</td>\n      <td>Обычный ноут</td>\n      <td>Похоже для него забыли изобрести кабель для sa...</td>\n      <td>Дичь. В ноуте есть место и салазки для диска H...</td>\n    </tr>\n    <tr>\n      <th>3</th>\n      <td>нотбуки</td>\n      <td>HONOR MagicBook 15 2021 BMH-WFQ9HN 53011WHD</td>\n      <td>Экран - хуже некуда</td>\n      <td>1</td>\n      <td>Жуть</td>\n      <td>В отзыве</td>\n      <td>В отзыве</td>\n      <td>По скорости и работе проблем нету, все ниже в ...</td>\n    </tr>\n    <tr>\n      <th>4</th>\n      <td>нотбуки</td>\n      <td>Machenike Star 15 S15-i512450H30504GF144LHD0BY</td>\n      <td>что и стоило ожидать от такого бренда, названи...</td>\n      <td>1</td>\n      <td>Жуть</td>\n      <td>за эти деньги их нет.</td>\n      <td>все</td>\n      <td>Здравствуйте, купил данный ноутбук 22.12.22, в...</td>\n    </tr>\n  </tbody>\n</table>\n</div>"
     },
     "execution_count": 40,
     "metadata": {},
     "output_type": "execute_result"
    }
   ],
   "source": [
    "import pandas as pd\n",
    "\n",
    "df = pd.read_excel(\"reviews/onliner_review_dataset_test.xlsx\")\n",
    "df.head()"
   ],
   "metadata": {
    "collapsed": false,
    "ExecuteTime": {
     "end_time": "2024-02-03T17:35:00.057894848Z",
     "start_time": "2024-02-03T17:34:59.373667662Z"
    }
   }
  },
  {
   "cell_type": "code",
   "execution_count": 41,
   "outputs": [
    {
     "name": "stdout",
     "output_type": "stream",
     "text": [
      "<class 'pandas.core.frame.DataFrame'>\n",
      "RangeIndex: 1500 entries, 0 to 1499\n",
      "Data columns (total 8 columns):\n",
      " #   Column                     Non-Null Count  Dtype \n",
      "---  ------                     --------------  ----- \n",
      " 0   Категория                  1500 non-null   object\n",
      " 1   Товар                      1500 non-null   object\n",
      " 2   Заголовок отзыва           1500 non-null   object\n",
      " 3   Оценка (количество звёзд)  1500 non-null   int64 \n",
      " 4   Комментарий к оценке       1500 non-null   object\n",
      " 5   Достоинства                1500 non-null   object\n",
      " 6   Недостатки                 1499 non-null   object\n",
      " 7   Отзыв                      1500 non-null   object\n",
      "dtypes: int64(1), object(7)\n",
      "memory usage: 93.9+ KB\n"
     ]
    }
   ],
   "source": [
    "df.info()"
   ],
   "metadata": {
    "collapsed": false,
    "ExecuteTime": {
     "end_time": "2024-02-03T17:35:09.901292960Z",
     "start_time": "2024-02-03T17:35:09.829947719Z"
    }
   }
  },
  {
   "cell_type": "markdown",
   "source": [
    "I will use \"Отзыв\" column for analysis, because it contains more data than other text columns. Also, I will apply `sent_tokenize` to the column, because usually (unlike tweets) review contains more than 1 sentence."
   ],
   "metadata": {
    "collapsed": false
   }
  },
  {
   "cell_type": "code",
   "execution_count": 44,
   "outputs": [
    {
     "data": {
      "text/plain": "['Являюсь \"счастливым\" обладателем данной модели.',\n 'За полгода использования: 1.',\n 'Износ батареи 15% (при 36 циклах) 2.',\n 'При сбросе на заводские настройки (если готовите например к продаже) получил кирпич (пришлось отдавать прошивать модель через DFU mode) 3.',\n 'Экран царапается даже от воздуха - любая пещинка (микрофибру забудьте - более не надежный экран еще не видел) 4.',\n 'Очень тормознутые порты type С (по сравнению с моей 15-й прошкой 2012 года!!',\n '!, где 50 гиг передается за 5 минут, а тут 20 минут жди).',\n '5.',\n 'Постоянно греется в 101 градус (даже при простом просмотре 4k видео на ютуб или запуске более 3-х программ) Жаль, что мало кто знает, но в данных моделях много есть брака и не только по батареи.',\n 'Не рекомендую к покупке - сырая модель, ненадежная, с собой носить опасно (любая пещинка и экран может треснуть), легко получить кирпич при сбросе до заводских настроек или простого обновления MAC OS.',\n 'Вернулся на intel маки, пока ARM очень сырой.']"
     },
     "execution_count": 44,
     "metadata": {},
     "output_type": "execute_result"
    }
   ],
   "source": [
    "from nltk import sent_tokenize\n",
    "\n",
    "sent_tokenize(df[\"Отзыв\"][0])"
   ],
   "metadata": {
    "collapsed": false,
    "ExecuteTime": {
     "end_time": "2024-02-03T17:35:58.609568727Z",
     "start_time": "2024-02-03T17:35:58.563435769Z"
    }
   }
  },
  {
   "cell_type": "markdown",
   "source": [
    "I will sample 100 reviews instead of taking all of them for simplicity."
   ],
   "metadata": {
    "collapsed": false
   }
  },
  {
   "cell_type": "code",
   "execution_count": 114,
   "outputs": [],
   "source": [
    "import random\n",
    "random.seed(321)\n",
    "\n",
    "review_corpus = sum([sent_tokenize(s) for s in df[\"Отзыв\"].sample(100)], [])"
   ],
   "metadata": {
    "collapsed": false,
    "ExecuteTime": {
     "end_time": "2024-02-03T18:08:37.058390909Z",
     "start_time": "2024-02-03T18:08:37.024861857Z"
    }
   }
  },
  {
   "cell_type": "code",
   "execution_count": 115,
   "outputs": [
    {
     "data": {
      "text/plain": "['При выборе не обратил внимание на тип матрицы и разрешение о чем и пожалел.',\n 'А так планшет как планшет.']"
     },
     "execution_count": 115,
     "metadata": {},
     "output_type": "execute_result"
    }
   ],
   "source": [
    "review_corpus[-2:]"
   ],
   "metadata": {
    "collapsed": false,
    "ExecuteTime": {
     "end_time": "2024-02-03T18:08:37.383408265Z",
     "start_time": "2024-02-03T18:08:37.356204458Z"
    }
   }
  },
  {
   "cell_type": "code",
   "execution_count": 116,
   "outputs": [
    {
     "data": {
      "text/plain": "['Да!', '1.', '1.', '2.', '3.', '4.', '5.', '6.', '!', 'Все.', 'Т.е.', '1.']"
     },
     "execution_count": 116,
     "metadata": {},
     "output_type": "execute_result"
    }
   ],
   "source": [
    "[s for s in review_corpus if len(s) <= 4]"
   ],
   "metadata": {
    "collapsed": false,
    "ExecuteTime": {
     "end_time": "2024-02-03T18:08:37.736231529Z",
     "start_time": "2024-02-03T18:08:37.712301672Z"
    }
   }
  },
  {
   "cell_type": "markdown",
   "source": [
    "As we can see, there are some outliers (sentences with one word, list numbers, etc.) with low length, so it is better to drop them for better statistics."
   ],
   "metadata": {
    "collapsed": false
   }
  },
  {
   "cell_type": "code",
   "execution_count": 117,
   "outputs": [],
   "source": [
    "review_corpus = [s for s in review_corpus if len(s) > 4]"
   ],
   "metadata": {
    "collapsed": false,
    "ExecuteTime": {
     "end_time": "2024-02-03T18:08:57.310542158Z",
     "start_time": "2024-02-03T18:08:57.251170436Z"
    }
   }
  },
  {
   "cell_type": "code",
   "execution_count": 118,
   "outputs": [
    {
     "data": {
      "text/plain": "841"
     },
     "execution_count": 118,
     "metadata": {},
     "output_type": "execute_result"
    }
   ],
   "source": [
    "len(review_corpus)"
   ],
   "metadata": {
    "collapsed": false,
    "ExecuteTime": {
     "end_time": "2024-02-03T18:08:57.928746986Z",
     "start_time": "2024-02-03T18:08:57.914913174Z"
    }
   }
  },
  {
   "cell_type": "code",
   "execution_count": 119,
   "outputs": [
    {
     "data": {
      "text/plain": "65908"
     },
     "execution_count": 119,
     "metadata": {},
     "output_type": "execute_result"
    }
   ],
   "source": [
    "all_review_data = \" \".join(review_corpus)\n",
    "len(all_review_data)"
   ],
   "metadata": {
    "collapsed": false,
    "ExecuteTime": {
     "end_time": "2024-02-03T18:08:58.783229608Z",
     "start_time": "2024-02-03T18:08:58.768864724Z"
    }
   }
  },
  {
   "cell_type": "code",
   "execution_count": 120,
   "outputs": [],
   "source": [
    "def get_average_sentence_length(vocab_size: int):\n",
    "    tokenizer = BPETokenizer(vocab_size=vocab_size)\n",
    "    tokenizer.train(review_corpus)\n",
    "    all_tokens = tokenizer.tokenize(all_review_data)\n",
    "    return len(all_tokens) / len(review_corpus)"
   ],
   "metadata": {
    "collapsed": false,
    "ExecuteTime": {
     "end_time": "2024-02-03T18:08:59.392786130Z",
     "start_time": "2024-02-03T18:08:59.378473906Z"
    }
   }
  },
  {
   "cell_type": "code",
   "execution_count": 121,
   "outputs": [
    {
     "name": "stderr",
     "output_type": "stream",
     "text": [
      "100%|██████████| 5/5 [01:00<00:00, 12.11s/it]\n"
     ]
    }
   ],
   "source": [
    "from tqdm import tqdm\n",
    "\n",
    "average_sentence_lengths = [get_average_sentence_length(vocab_size) for vocab_size in tqdm(vocab_sizes)]"
   ],
   "metadata": {
    "collapsed": false,
    "ExecuteTime": {
     "end_time": "2024-02-03T18:10:00.629644998Z",
     "start_time": "2024-02-03T18:09:00.036881399Z"
    }
   }
  },
  {
   "cell_type": "code",
   "execution_count": 122,
   "outputs": [
    {
     "data": {
      "text/plain": "<Figure size 640x480 with 1 Axes>",
      "image/png": "[encoded data removed]"
     },
     "metadata": {},
     "output_type": "display_data"
    }
   ],
   "source": [
    "plt.title(\"Average sentence length against tweets length (in tokens)\")\n",
    "plt.xlabel(\"vocab size\")\n",
    "plt.ylabel(\"average length\")\n",
    "plt.ylim(0, 110)\n",
    "plt.plot(vocab_sizes, average_sentence_lengths, label=\"sentences\")\n",
    "plt.plot(vocab_sizes, average_tweet_lengths, label=\"tweets\")\n",
    "plt.legend()\n",
    "plt.show()"
   ],
   "metadata": {
    "collapsed": false,
    "ExecuteTime": {
     "end_time": "2024-02-03T18:10:03.568380716Z",
     "start_time": "2024-02-03T18:10:03.391571373Z"
    }
   }
  },
  {
   "cell_type": "markdown",
   "source": [
    "As we can see on the plot above, the average sentence length is slightly lower than average length of tweets. This happens because the average length of the sentence is lower than the average length of the tweet, we can see on the plot for the base case (`vocab_size` = 0)."
   ],
   "metadata": {
    "collapsed": false
   }
  }
 ],
 "metadata": {
  "colab": {
   "provenance": []
  },
  "kernelspec": {
   "name": "python3",
   "language": "python",
   "display_name": "Python 3 (ipykernel)"
  },
  "language_info": {
   "name": "python"
  }
 },
 "nbformat": 4,
 "nbformat_minor": 0
}
