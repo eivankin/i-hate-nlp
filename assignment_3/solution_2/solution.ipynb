{
 "metadata": {
  "kernelspec": {
   "display_name": "Python 3",
   "language": "python",
   "name": "python3"
  },
  "language_info": {
   "name": "python",
   "version": "3.10.13",
   "mimetype": "text/x-python",
   "codemirror_mode": {
    "name": "ipython",
    "version": 3
   },
   "pygments_lexer": "ipython3",
   "nbconvert_exporter": "python",
   "file_extension": ".py"
  },
  "kaggle": {
   "accelerator": "gpu",
   "dataSources": [
    {
     "sourceId": 8188606,
     "sourceType": "datasetVersion",
     "datasetId": 4848975
    },
    {
     "sourceId": 8188614,
     "sourceType": "datasetVersion",
     "datasetId": 4848981
    }
   ],
   "isInternetEnabled": true,
   "language": "python",
   "sourceType": "notebook",
   "isGpuEnabled": true
  }
 },
 "nbformat_minor": 5,
 "nbformat": 4,
 "cells": [
  {
   "cell_type": "markdown",
   "source": [
    "# Spacy Span~~k~~Cat\n",
    "![cat](spankcat.gif)"
   ],
   "metadata": {},
   "id": "9a26b1fd0ef1be1c"
  },
  {
   "cell_type": "markdown",
   "source": [
    "## Init settings\n",
    "THere I created basic configuration for SpanCategorizer pipeline. I choose single-label variant since each span will have only one class assigned. Also, I set the language (ru) and make it use GPU.  "
   ],
   "metadata": {},
   "id": "23b5fcf7f6313dd4"
  },
  {
   "cell_type": "code",
   "source": [
    "!spacy init config spancat_config.cfg -l ru -p spancat_singlelabel -G -F"
   ],
   "metadata": {
    "collapsed": false,
    "ExecuteTime": {
     "end_time": "2024-04-21T18:27:25.434237Z",
     "start_time": "2024-04-21T18:27:25.431080Z"
    }
   },
   "execution_count": null,
   "outputs": [],
   "id": "439a2aa31edc9ec6"
  },
  {
   "cell_type": "markdown",
   "source": [
    "## Preprocessing data"
   ],
   "metadata": {},
   "id": "daef46246cfbd65e"
  },
  {
   "cell_type": "code",
   "source": [
    "!mkdir preporcessed_data"
   ],
   "metadata": {
    "collapsed": false,
    "ExecuteTime": {
     "end_time": "2024-04-21T19:23:44.537564Z",
     "start_time": "2024-04-21T19:23:44.405797Z"
    }
   },
   "execution_count": 1,
   "outputs": [],
   "id": "839e0d611a982da7"
  },
  {
   "cell_type": "code",
   "source": [
    "!python scripts/preprocess.py ../data/train.jsonl ./preporcessed_data/train.spacy ./preporcessed_data/val.spacy"
   ],
   "metadata": {
    "collapsed": false,
    "ExecuteTime": {
     "end_time": "2024-04-21T22:14:02.377407Z",
     "start_time": "2024-04-21T22:13:51.692563Z"
    }
   },
   "execution_count": 59,
   "outputs": [
    {
     "name": "stdout",
     "output_type": "stream",
     "text": "514it [00:01, 319.05it/s]\n"
    }
   ],
   "id": "1ede5f84ba004d24"
  },
  {
   "cell_type": "markdown",
   "source": [
    "I adjusted rules for spacy tokenizer, so it works with expected boundaries from train dataset. Also, I manually changed some boundaries that were incorrect (for example, missed the last character from the word) and dropped some examples from train set that were too hard to fix. See preprocess script for more details"
   ],
   "metadata": {
    "collapsed": false
   },
   "id": "4babaa6a2db15655"
  },
  {
   "cell_type": "markdown",
   "source": [
    "## Training"
   ],
   "metadata": {},
   "id": "21c7edfeffb0fec9"
  },
  {
   "cell_type": "markdown",
   "source": [
    "I uploaded preprocessed data & config to Kaggle and continued there."
   ],
   "metadata": {},
   "id": "c298ea7a4d108eb2"
  },
  {
   "cell_type": "code",
   "source": [
    "!pip uninstall -y cupy"
   ],
   "metadata": {
    "execution": {
     "iopub.status.busy": "2024-04-21T23:15:19.463789Z",
     "iopub.execute_input": "2024-04-21T23:15:19.464494Z",
     "iopub.status.idle": "2024-04-21T23:15:22.861575Z",
     "shell.execute_reply.started": "2024-04-21T23:15:19.464457Z",
     "shell.execute_reply": "2024-04-21T23:15:22.860618Z"
    },
    "trusted": true
   },
   "execution_count": 8,
   "outputs": [
    {
     "name": "stdout",
     "text": "Found existing installation: cupy 13.0.0\nUninstalling cupy-13.0.0:\n  Successfully uninstalled cupy-13.0.0\n",
     "output_type": "stream"
    }
   ],
   "id": "3e8a4b8312b628aa"
  },
  {
   "cell_type": "code",
   "source": [
    "!pip uninstall -y cupy-cuda12x"
   ],
   "metadata": {
    "execution": {
     "iopub.status.busy": "2024-04-21T23:18:08.325458Z",
     "iopub.execute_input": "2024-04-21T23:18:08.326092Z",
     "iopub.status.idle": "2024-04-21T23:18:10.188241Z",
     "shell.execute_reply.started": "2024-04-21T23:18:08.326056Z",
     "shell.execute_reply": "2024-04-21T23:18:10.187347Z"
    },
    "trusted": true
   },
   "execution_count": 14,
   "outputs": [
    {
     "name": "stdout",
     "text": "\u001B[33mWARNING: Skipping cupy-cuda12x as it is not installed.\u001B[0m\u001B[33m\n\u001B[0m",
     "output_type": "stream"
    }
   ],
   "id": "4c89f1e51a521b9c"
  },
  {
   "cell_type": "code",
   "source": [
    "!pip install -U spacy-transformers 'spacy[cuda12x]'"
   ],
   "metadata": {
    "trusted": true
   },
   "execution_count": null,
   "outputs": [],
   "id": "74fd45e32de71f92"
  },
  {
   "cell_type": "code",
   "source": [
    "!spacy train /kaggle/input/spacy-spancat-singlelabel-cfg/spancat_config.cfg -V -o ./spancat -g 0 --paths.train /kaggle/input/nlp-a3-dataset-in-spacy-format/train.spacy --paths.dev /kaggle/input/nlp-a3-dataset-in-spacy-format/val.spacy --nlp.batch_size 64 --training.logger.progress_bar true"
   ],
   "metadata": {
    "collapsed": false,
    "ExecuteTime": {
     "end_time": "2024-04-21T22:31:13.514642Z",
     "start_time": "2024-04-21T22:30:57.499281Z"
    },
    "execution": {
     "iopub.status.busy": "2024-04-21T23:27:08.281964Z",
     "iopub.execute_input": "2024-04-21T23:27:08.282357Z"
    },
    "trusted": true
   },
   "execution_count": null,
   "outputs": [
    {
     "name": "stdout",
     "text": "[2024-04-21 23:27:12,490] [DEBUG] Config overrides from CLI: ['paths.train', 'paths.dev', 'nlp.batch_size', 'training.logger.progress_bar']\n\u001B[38;5;4mℹ Saving to output directory: spancat\u001B[0m\n\u001B[38;5;4mℹ Using GPU: 0\u001B[0m\n\u001B[1m\n=========================== Initializing pipeline ===========================\u001B[0m\n[2024-04-21 23:27:13,856] [INFO] Set up nlp object from config\n[2024-04-21 23:27:13,891] [DEBUG] Loading corpus from path: /kaggle/input/nlp-a3-dataset-in-spacy-format/val.spacy\n[2024-04-21 23:27:13,896] [DEBUG] Loading corpus from path: /kaggle/input/nlp-a3-dataset-in-spacy-format/train.spacy\n[2024-04-21 23:27:13,896] [INFO] Pipeline: ['transformer', 'spancat_singlelabel']\n[2024-04-21 23:27:13,903] [INFO] Created vocabulary\n[2024-04-21 23:27:13,903] [INFO] Finished initializing nlp object\n[2024-04-21 23:27:24,544] [INFO] Initialized pipeline components: ['transformer', 'spancat_singlelabel']\n\u001B[38;5;2m✔ Initialized pipeline\u001B[0m\n\u001B[1m\n============================= Training pipeline =============================\u001B[0m\n[2024-04-21 23:27:24,582] [DEBUG] Loading corpus from path: /kaggle/input/nlp-a3-dataset-in-spacy-format/val.spacy\n[2024-04-21 23:27:24,586] [DEBUG] Loading corpus from path: /kaggle/input/nlp-a3-dataset-in-spacy-format/train.spacy\n[2024-04-21 23:27:24,677] [DEBUG] Removed existing output directory: spancat/model-last\n\u001B[38;5;4mℹ Pipeline: ['transformer', 'spancat_singlelabel']\u001B[0m\n\u001B[38;5;4mℹ Initial learn rate: 0.0\u001B[0m\nE    #       LOSS TRANS...  LOSS SPANC...  SPANS_SC_F  SPANS_SC_P  SPANS_SC_R  SCORE \n---  ------  -------------  -------------  ----------  ----------  ----------  ------\n  0       0           0.00        5850.27        0.40        0.21        3.71    0.00\n  3     200         297.19     1307627.95        0.00        0.00        0.00    0.00\n  6     400        3059.66      820077.07        0.00        0.00        0.00    0.00\n  9     600        1714.01      190786.13        0.00        0.00        0.00    0.00\n 12     800       26416.56      102689.62       32.90       50.02       24.52    0.33\n 15    1000       30974.67       59855.97       67.57       69.14       66.07    0.68\n 19    1200       20017.37       29881.37       73.00       80.53       66.76    0.73\n 22    1400       14303.40       16925.45       77.15       80.19       74.34    0.77\n 25    1600       11529.51       10288.50       78.29       80.01       76.63    0.78\n 28    1800        9900.16        6649.97       78.55       79.10       78.01    0.79\n 32    2000        7602.26        4065.16       79.48       82.07       77.05    0.79\n 35    2200        6741.74        2675.48       79.43       83.40       75.82    0.79\n 38    2400        6366.39        1951.10       79.34       81.69       77.12    0.79\n 41    2600        5826.56        1539.82       79.47       81.09       77.91    0.79\n 44    2800        5519.66        1149.89       79.74       83.64       76.18    0.80\nEpoch 45:  54%|████████████████▌              | 107/200 [01:08<00:58,  1.58it/s]",
     "output_type": "stream"
    }
   ],
   "id": "a107b6ed4ae4e84"
  },
  {
   "cell_type": "markdown",
   "source": [
    "Training loop was failing to start sometimes, but it worked in the end. However, it died at around 40 epochs, so I downloaded the best model checkpoint and stopped the notebook."
   ],
   "metadata": {
    "collapsed": false
   },
   "id": "94326d1c1b40dc6c"
  },
  {
   "cell_type": "markdown",
   "source": [
    "Starting from the cell below, I returned to the local execution. "
   ],
   "metadata": {
    "collapsed": false
   },
   "id": "ffa7bf498f1c6dbd"
  },
  {
   "cell_type": "code",
   "outputs": [
    {
     "name": "stdout",
     "output_type": "stream",
     "text": [
      "\u001B[38;5;4mℹ Using CPU\u001B[0m\r\n",
      "\u001B[38;5;4mℹ To switch to GPU 0, use the option: --gpu-id 0\u001B[0m\r\n",
      "/home/eugen/coding/inno_labs/nlp-s24/venv/lib/python3.11/site-packages/transformers/utils/generic.py:441: UserWarning: torch.utils._pytree._register_pytree_node is deprecated. Please use torch.utils._pytree.register_pytree_node instead.\r\n",
      "  _torch_pytree._register_pytree_node(\r\n",
      "/home/eugen/coding/inno_labs/nlp-s24/venv/lib/python3.11/site-packages/transformers/utils/generic.py:309: UserWarning: torch.utils._pytree._register_pytree_node is deprecated. Please use torch.utils._pytree.register_pytree_node instead.\r\n",
      "  _torch_pytree._register_pytree_node(\r\n",
      "2024-04-22 03:35:34.532063: I tensorflow/core/platform/cpu_feature_guard.cc:210] This TensorFlow binary is optimized to use available CPU instructions in performance-critical operations.\r\n",
      "To enable the following instructions: AVX2 FMA, in other operations, rebuild TensorFlow with the appropriate compiler flags.\r\n",
      "2024-04-22 03:35:35.306377: W tensorflow/compiler/tf2tensorrt/utils/py_utils.cc:38] TF-TRT Warning: Could not find TensorRT\r\n",
      "/home/eugen/coding/inno_labs/nlp-s24/venv/lib/python3.11/site-packages/transformers/utils/generic.py:309: UserWarning: torch.utils._pytree._register_pytree_node is deprecated. Please use torch.utils._pytree.register_pytree_node instead.\r\n",
      "  _torch_pytree._register_pytree_node(\r\n",
      "\u001B[1m\r\n",
      "================================== Results ==================================\u001B[0m\r\n",
      "\r\n",
      "TOK      98.92\r\n",
      "SPAN P   83.64\r\n",
      "SPAN R   76.18\r\n",
      "SPAN F   79.74\r\n",
      "SPEED    533  \r\n",
      "\r\n",
      "\u001B[1m\r\n",
      "============================== SPANS (per type) ==============================\u001B[0m\r\n",
      "\r\n",
      "                        P       R       F\r\n",
      "NUMBER              89.78   74.89   81.66\r\n",
      "ORDINAL             80.34   88.68   84.30\r\n",
      "ORGANIZATION        81.60   71.41   76.16\r\n",
      "FACILITY            63.86   55.79   59.55\r\n",
      "STATE_OR_PROVINCE   79.71   77.46   78.57\r\n",
      "PROFESSION          84.72   76.52   80.41\r\n",
      "DISEASE             69.77   63.83   66.67\r\n",
      "EVENT               63.95   54.22   58.69\r\n",
      "COUNTRY             94.59   95.93   95.26\r\n",
      "PERSON              94.61   91.71   93.14\r\n",
      "AGE                 89.86   91.85   90.84\r\n",
      "CITY                86.88   85.33   86.10\r\n",
      "LOCATION            78.72   59.68   67.89\r\n",
      "DATE                85.60   75.48   80.22\r\n",
      "IDEOLOGY            64.06   70.69   67.21\r\n",
      "MONEY               85.71   71.43   77.92\r\n",
      "PRODUCT             80.00   72.00   75.79\r\n",
      "PENALTY             85.71   27.27   41.38\r\n",
      "WORK_OF_ART         38.89   26.92   31.82\r\n",
      "LAW                 69.77   42.25   52.63\r\n",
      "DISTRICT            42.86   42.86   42.86\r\n",
      "TIME                81.82   54.55   65.45\r\n",
      "NATIONALITY         76.92   76.92   76.92\r\n",
      "RELIGION            94.74   78.26   85.71\r\n",
      "FAMILY               0.00    0.00    0.00\r\n",
      "AWARD               76.00   66.67   71.03\r\n",
      "CRIME               23.81   20.00   21.74\r\n",
      "LANGUAGE            88.89   80.00   84.21\r\n",
      "PERCENT             87.50   77.78   82.35\r\n",
      "\r\n"
     ]
    }
   ],
   "source": [
    "!spacy benchmark accuracy model-best ./preprocessed_data/val.spacy"
   ],
   "metadata": {
    "collapsed": false,
    "ExecuteTime": {
     "end_time": "2024-04-22T00:36:30.511954Z",
     "start_time": "2024-04-22T00:35:30.211160Z"
    }
   },
   "id": "347fd2f988257e5a",
   "execution_count": 10
  },
  {
   "cell_type": "markdown",
   "source": [
    "## Inference on dev set"
   ],
   "metadata": {
    "collapsed": false
   },
   "id": "300116bf57dd2d09"
  },
  {
   "cell_type": "code",
   "outputs": [
    {
     "name": "stdout",
     "output_type": "stream",
     "text": [
      "\u001B[38;5;4mℹ Using CPU\u001B[0m\r\n",
      "\u001B[38;5;4mℹ To switch to GPU 0, use the option: --gpu-id 0\u001B[0m\r\n",
      "/home/eugen/coding/inno_labs/nlp-s24/venv/lib/python3.11/site-packages/transformers/utils/generic.py:441: UserWarning: torch.utils._pytree._register_pytree_node is deprecated. Please use torch.utils._pytree.register_pytree_node instead.\r\n",
      "  _torch_pytree._register_pytree_node(\r\n",
      "/home/eugen/coding/inno_labs/nlp-s24/venv/lib/python3.11/site-packages/transformers/utils/generic.py:309: UserWarning: torch.utils._pytree._register_pytree_node is deprecated. Please use torch.utils._pytree.register_pytree_node instead.\r\n",
      "  _torch_pytree._register_pytree_node(\r\n",
      "2024-04-22 03:39:04.042018: I tensorflow/core/platform/cpu_feature_guard.cc:210] This TensorFlow binary is optimized to use available CPU instructions in performance-critical operations.\r\n",
      "To enable the following instructions: AVX2 FMA, in other operations, rebuild TensorFlow with the appropriate compiler flags.\r\n",
      "2024-04-22 03:39:04.730722: W tensorflow/compiler/tf2tensorrt/utils/py_utils.cc:38] TF-TRT Warning: Could not find TensorRT\r\n",
      "/home/eugen/coding/inno_labs/nlp-s24/venv/lib/python3.11/site-packages/transformers/utils/generic.py:309: UserWarning: torch.utils._pytree._register_pytree_node is deprecated. Please use torch.utils._pytree.register_pytree_node instead.\r\n",
      "  _torch_pytree._register_pytree_node(\r\n",
      "\u001B[38;5;2m✔ Loaded model model-best\u001B[0m\r\n",
      "65it [00:29,  2.17it/s]\r\n"
     ]
    }
   ],
   "source": [
    "!spacy apply model-best ../data/dev.jsonl predictions.spacy -tk sentences"
   ],
   "metadata": {
    "collapsed": false,
    "ExecuteTime": {
     "end_time": "2024-04-22T00:39:43.399591Z",
     "start_time": "2024-04-22T00:39:00.685042Z"
    }
   },
   "id": "374b9002cd0be9c5",
   "execution_count": 11
  },
  {
   "cell_type": "code",
   "outputs": [],
   "source": [
    "import os\n",
    "import warnings\n",
    "import json\n",
    "\n",
    "os.environ[\"TF_CPP_MIN_LOG_LEVEL\"] = \"3\"\n",
    "warnings.filterwarnings(\"ignore\")\n",
    "\n",
    "import spacy\n",
    "from spacy import displacy\n",
    "from spacy.tokens import DocBin"
   ],
   "metadata": {
    "collapsed": false,
    "ExecuteTime": {
     "end_time": "2024-04-22T00:55:28.482913Z",
     "start_time": "2024-04-22T00:55:28.479235Z"
    }
   },
   "id": "265c84fbbf7dc55a",
   "execution_count": 45
  },
  {
   "cell_type": "code",
   "outputs": [],
   "source": [
    "db = DocBin().from_disk(\"predictions.spacy\")"
   ],
   "metadata": {
    "collapsed": false,
    "ExecuteTime": {
     "end_time": "2024-04-22T00:46:18.097904Z",
     "start_time": "2024-04-22T00:46:17.418046Z"
    }
   },
   "id": "9041a0efd830a5ec",
   "execution_count": 20
  },
  {
   "cell_type": "code",
   "outputs": [],
   "source": [
    "docs = list(db.get_docs(spacy.blank(\"ru\").vocab))"
   ],
   "metadata": {
    "collapsed": false,
    "ExecuteTime": {
     "end_time": "2024-04-22T00:46:31.537700Z",
     "start_time": "2024-04-22T00:46:31.172957Z"
    }
   },
   "id": "e2f2c058de753a95",
   "execution_count": 23
  },
  {
   "cell_type": "code",
   "outputs": [
    {
     "data": {
      "text/plain": "<IPython.core.display.HTML object>",
      "text/html": "<span class=\"tex2jax_ignore\"><div class=\"spans\" style=\"line-height: 2.5; direction: ltr\">\n<span style=\"font-weight: bold; display: inline-block; position: relative; height: 60px;\">\n    Генерал\n    \n<span style=\"background: #ddd; top: 40px; height: 4px; left: -1px; width: calc(100% + 2px); position: absolute;\">\n</span>\n\n    \n<span style=\"background: #ddd; top: 40px; height: 4px; border-top-left-radius: 3px; border-bottom-left-radius: 3px; left: -1px; width: calc(100% + 2px); position: absolute;\">\n    <span style=\"background: #ddd; z-index: 10; color: #000; top: -0.5em; padding: 2px 3px; position: absolute; font-size: 0.6em; font-weight: bold; line-height: 1; border-radius: 3px\">\n        PROFESSION\n    </span>\n</span>\n\n\n</span>\n\n<span style=\"font-weight: bold; display: inline-block; position: relative; height: 60px;\">\n    Д.Петреус\n    \n<span style=\"background: #aa9cfc; top: 40px; height: 4px; left: -1px; width: calc(100% + 2px); position: absolute;\">\n</span>\n\n    \n<span style=\"background: #aa9cfc; top: 40px; height: 4px; border-top-left-radius: 3px; border-bottom-left-radius: 3px; left: -1px; width: calc(100% + 2px); position: absolute;\">\n    <span style=\"background: #aa9cfc; z-index: 10; color: #000; top: -0.5em; padding: 2px 3px; position: absolute; font-size: 0.6em; font-weight: bold; line-height: 1; border-radius: 3px\">\n        PERSON\n    </span>\n</span>\n\n\n</span>\n\n<span style=\"font-weight: bold; display: inline-block; position: relative; height: 60px;\">\n    назначен\n    \n<span style=\"background: #ffeb80; top: 40px; height: 4px; left: -1px; width: calc(100% + 2px); position: absolute;\">\n</span>\n\n    \n<span style=\"background: #ffeb80; top: 40px; height: 4px; border-top-left-radius: 3px; border-bottom-left-radius: 3px; left: -1px; width: calc(100% + 2px); position: absolute;\">\n    <span style=\"background: #ffeb80; z-index: 10; color: #000; top: -0.5em; padding: 2px 3px; position: absolute; font-size: 0.6em; font-weight: bold; line-height: 1; border-radius: 3px\">\n        EVENT\n    </span>\n</span>\n\n\n</span>\n\n<span style=\"font-weight: bold; display: inline-block; position: relative; height: 60px;\">\n    на\n    \n<span style=\"background: #ffeb80; top: 40px; height: 4px; left: -1px; width: calc(100% + 2px); position: absolute;\">\n</span>\n\n    \n</span>\n\n<span style=\"font-weight: bold; display: inline-block; position: relative; height: 60px;\">\n    пост\n    \n<span style=\"background: #ffeb80; top: 40px; height: 4px; left: -1px; width: calc(100% + 2px); position: absolute;\">\n</span>\n\n    \n</span>\n\n<span style=\"font-weight: bold; display: inline-block; position: relative; height: 60px;\">\n    главы\n    \n<span style=\"background: #ddd; top: 40px; height: 4px; left: -1px; width: calc(100% + 2px); position: absolute;\">\n</span>\n\n    \n<span style=\"background: #ddd; top: 40px; height: 4px; border-top-left-radius: 3px; border-bottom-left-radius: 3px; left: -1px; width: calc(100% + 2px); position: absolute;\">\n    <span style=\"background: #ddd; z-index: 10; color: #000; top: -0.5em; padding: 2px 3px; position: absolute; font-size: 0.6em; font-weight: bold; line-height: 1; border-radius: 3px\">\n        PROFESSION\n    </span>\n</span>\n\n\n</span>\n\n<span style=\"font-weight: bold; display: inline-block; position: relative; height: 77px;\">\n    ЦРУ\n    \n<span style=\"background: #ddd; top: 40px; height: 4px; left: -1px; width: calc(100% + 2px); position: absolute;\">\n</span>\n\n<span style=\"background: #ddd; top: 57px; height: 4px; left: -1px; width: calc(100% + 2px); position: absolute;\">\n</span>\n\n    \n<span style=\"background: #ddd; top: 57px; height: 4px; border-top-left-radius: 3px; border-bottom-left-radius: 3px; left: -1px; width: calc(100% + 2px); position: absolute;\">\n    <span style=\"background: #ddd; z-index: 10; color: #000; top: -0.5em; padding: 2px 3px; position: absolute; font-size: 0.6em; font-weight: bold; line-height: 1; border-radius: 3px\">\n        ORGANIZATION\n    </span>\n</span>\n\n\n</span>\n. \n\n \n<span style=\"font-weight: bold; display: inline-block; position: relative; height: 60px;\">\n    Генерал\n    \n<span style=\"background: #ddd; top: 40px; height: 4px; left: -1px; width: calc(100% + 2px); position: absolute;\">\n</span>\n\n    \n<span style=\"background: #ddd; top: 40px; height: 4px; border-top-left-radius: 3px; border-bottom-left-radius: 3px; left: -1px; width: calc(100% + 2px); position: absolute;\">\n    <span style=\"background: #ddd; z-index: 10; color: #000; top: -0.5em; padding: 2px 3px; position: absolute; font-size: 0.6em; font-weight: bold; line-height: 1; border-radius: 3px\">\n        PROFESSION\n    </span>\n</span>\n\n\n</span>\n\n<span style=\"font-weight: bold; display: inline-block; position: relative; height: 60px;\">\n    Дэвид\n    \n<span style=\"background: #aa9cfc; top: 40px; height: 4px; left: -1px; width: calc(100% + 2px); position: absolute;\">\n</span>\n\n    \n<span style=\"background: #aa9cfc; top: 40px; height: 4px; border-top-left-radius: 3px; border-bottom-left-radius: 3px; left: -1px; width: calc(100% + 2px); position: absolute;\">\n    <span style=\"background: #aa9cfc; z-index: 10; color: #000; top: -0.5em; padding: 2px 3px; position: absolute; font-size: 0.6em; font-weight: bold; line-height: 1; border-radius: 3px\">\n        PERSON\n    </span>\n</span>\n\n\n</span>\n\n<span style=\"font-weight: bold; display: inline-block; position: relative; height: 60px;\">\n    Петреус\n    \n<span style=\"background: #aa9cfc; top: 40px; height: 4px; left: -1px; width: calc(100% + 2px); position: absolute;\">\n</span>\n\n    \n</span>\n\n<span style=\"font-weight: bold; display: inline-block; position: relative; height: 60px;\">\n    назначен\n    \n<span style=\"background: #ffeb80; top: 40px; height: 4px; left: -1px; width: calc(100% + 2px); position: absolute;\">\n</span>\n\n    \n<span style=\"background: #ffeb80; top: 40px; height: 4px; border-top-left-radius: 3px; border-bottom-left-radius: 3px; left: -1px; width: calc(100% + 2px); position: absolute;\">\n    <span style=\"background: #ffeb80; z-index: 10; color: #000; top: -0.5em; padding: 2px 3px; position: absolute; font-size: 0.6em; font-weight: bold; line-height: 1; border-radius: 3px\">\n        EVENT\n    </span>\n</span>\n\n\n</span>\n\n<span style=\"font-weight: bold; display: inline-block; position: relative; height: 60px;\">\n    на\n    \n<span style=\"background: #ffeb80; top: 40px; height: 4px; left: -1px; width: calc(100% + 2px); position: absolute;\">\n</span>\n\n    \n</span>\n\n<span style=\"font-weight: bold; display: inline-block; position: relative; height: 60px;\">\n    пост\n    \n<span style=\"background: #ffeb80; top: 40px; height: 4px; left: -1px; width: calc(100% + 2px); position: absolute;\">\n</span>\n\n    \n</span>\n\n<span style=\"font-weight: bold; display: inline-block; position: relative; height: 60px;\">\n    главы\n    \n<span style=\"background: #ddd; top: 40px; height: 4px; left: -1px; width: calc(100% + 2px); position: absolute;\">\n</span>\n\n    \n<span style=\"background: #ddd; top: 40px; height: 4px; border-top-left-radius: 3px; border-bottom-left-radius: 3px; left: -1px; width: calc(100% + 2px); position: absolute;\">\n    <span style=\"background: #ddd; z-index: 10; color: #000; top: -0.5em; padding: 2px 3px; position: absolute; font-size: 0.6em; font-weight: bold; line-height: 1; border-radius: 3px\">\n        PROFESSION\n    </span>\n</span>\n\n\n</span>\n\n<span style=\"font-weight: bold; display: inline-block; position: relative; height: 77px;\">\n    Центрального\n    \n<span style=\"background: #ddd; top: 40px; height: 4px; left: -1px; width: calc(100% + 2px); position: absolute;\">\n</span>\n\n<span style=\"background: #ddd; top: 57px; height: 4px; left: -1px; width: calc(100% + 2px); position: absolute;\">\n</span>\n\n    \n<span style=\"background: #ddd; top: 57px; height: 4px; border-top-left-radius: 3px; border-bottom-left-radius: 3px; left: -1px; width: calc(100% + 2px); position: absolute;\">\n    <span style=\"background: #ddd; z-index: 10; color: #000; top: -0.5em; padding: 2px 3px; position: absolute; font-size: 0.6em; font-weight: bold; line-height: 1; border-radius: 3px\">\n        ORGANIZATION\n    </span>\n</span>\n\n\n</span>\n\n<span style=\"font-weight: bold; display: inline-block; position: relative; height: 77px;\">\n    разведывательного\n    \n<span style=\"background: #ddd; top: 40px; height: 4px; left: -1px; width: calc(100% + 2px); position: absolute;\">\n</span>\n\n<span style=\"background: #ddd; top: 57px; height: 4px; left: -1px; width: calc(100% + 2px); position: absolute;\">\n</span>\n\n    \n</span>\n\n<span style=\"font-weight: bold; display: inline-block; position: relative; height: 77px;\">\n    управления\n    \n<span style=\"background: #ddd; top: 40px; height: 4px; left: -1px; width: calc(100% + 2px); position: absolute;\">\n</span>\n\n<span style=\"background: #ddd; top: 57px; height: 4px; left: -1px; width: calc(100% + 2px); position: absolute;\">\n</span>\n\n    \n</span>\n( \n<span style=\"font-weight: bold; display: inline-block; position: relative; height: 60px;\">\n    ЦРУ\n    \n<span style=\"background: #ddd; top: 40px; height: 4px; left: -1px; width: calc(100% + 2px); position: absolute;\">\n</span>\n\n    \n<span style=\"background: #ddd; top: 40px; height: 4px; border-top-left-radius: 3px; border-bottom-left-radius: 3px; left: -1px; width: calc(100% + 2px); position: absolute;\">\n    <span style=\"background: #ddd; z-index: 10; color: #000; top: -0.5em; padding: 2px 3px; position: absolute; font-size: 0.6em; font-weight: bold; line-height: 1; border-radius: 3px\">\n        ORGANIZATION\n    </span>\n</span>\n\n\n</span>\n) . Такое решение сегодня принял \n<span style=\"font-weight: bold; display: inline-block; position: relative; height: 77px;\">\n    Сенат\n    \n<span style=\"background: #ddd; top: 40px; height: 4px; left: -1px; width: calc(100% + 2px); position: absolute;\">\n</span>\n\n<span style=\"background: #ddd; top: 57px; height: 4px; left: -1px; width: calc(100% + 2px); position: absolute;\">\n</span>\n\n    \n<span style=\"background: #ddd; top: 40px; height: 4px; border-top-left-radius: 3px; border-bottom-left-radius: 3px; left: -1px; width: calc(100% + 2px); position: absolute;\">\n    <span style=\"background: #ddd; z-index: 10; color: #000; top: -0.5em; padding: 2px 3px; position: absolute; font-size: 0.6em; font-weight: bold; line-height: 1; border-radius: 3px\">\n        ORGANIZATION\n    </span>\n</span>\n\n\n<span style=\"background: #ddd; top: 57px; height: 4px; border-top-left-radius: 3px; border-bottom-left-radius: 3px; left: -1px; width: calc(100% + 2px); position: absolute;\">\n    <span style=\"background: #ddd; z-index: 10; color: #000; top: -0.5em; padding: 2px 3px; position: absolute; font-size: 0.6em; font-weight: bold; line-height: 1; border-radius: 3px\">\n        ORGANIZATION\n    </span>\n</span>\n\n\n</span>\n\n<span style=\"font-weight: bold; display: inline-block; position: relative; height: 77px;\">\n    США\n    \n<span style=\"background: #ddd; top: 40px; height: 4px; left: -1px; width: calc(100% + 2px); position: absolute;\">\n</span>\n\n<span style=\"background: #ddd; top: 57px; height: 4px; left: -1px; width: calc(100% + 2px); position: absolute;\">\n</span>\n\n    \n<span style=\"background: #ddd; top: 57px; height: 4px; border-top-left-radius: 3px; border-bottom-left-radius: 3px; left: -1px; width: calc(100% + 2px); position: absolute;\">\n    <span style=\"background: #ddd; z-index: 10; color: #000; top: -0.5em; padding: 2px 3px; position: absolute; font-size: 0.6em; font-weight: bold; line-height: 1; border-radius: 3px\">\n        COUNTRY\n    </span>\n</span>\n\n\n</span>\n, передает \n<span style=\"font-weight: bold; display: inline-block; position: relative; height: 60px;\">\n    Reuters\n    \n<span style=\"background: #ddd; top: 40px; height: 4px; left: -1px; width: calc(100% + 2px); position: absolute;\">\n</span>\n\n    \n<span style=\"background: #ddd; top: 40px; height: 4px; border-top-left-radius: 3px; border-bottom-left-radius: 3px; left: -1px; width: calc(100% + 2px); position: absolute;\">\n    <span style=\"background: #ddd; z-index: 10; color: #000; top: -0.5em; padding: 2px 3px; position: absolute; font-size: 0.6em; font-weight: bold; line-height: 1; border-radius: 3px\">\n        ORGANIZATION\n    </span>\n</span>\n\n\n</span>\n. \n\n Сообщается , что \n<span style=\"font-weight: bold; display: inline-block; position: relative; height: 60px;\">\n    Д.Петреус\n    \n<span style=\"background: #aa9cfc; top: 40px; height: 4px; left: -1px; width: calc(100% + 2px); position: absolute;\">\n</span>\n\n    \n<span style=\"background: #aa9cfc; top: 40px; height: 4px; border-top-left-radius: 3px; border-bottom-left-radius: 3px; left: -1px; width: calc(100% + 2px); position: absolute;\">\n    <span style=\"background: #aa9cfc; z-index: 10; color: #000; top: -0.5em; padding: 2px 3px; position: absolute; font-size: 0.6em; font-weight: bold; line-height: 1; border-radius: 3px\">\n        PERSON\n    </span>\n</span>\n\n\n</span>\n\n<span style=\"font-weight: bold; display: inline-block; position: relative; height: 60px;\">\n    избран\n    \n<span style=\"background: #ffeb80; top: 40px; height: 4px; left: -1px; width: calc(100% + 2px); position: absolute;\">\n</span>\n\n    \n<span style=\"background: #ffeb80; top: 40px; height: 4px; border-top-left-radius: 3px; border-bottom-left-radius: 3px; left: -1px; width: calc(100% + 2px); position: absolute;\">\n    <span style=\"background: #ffeb80; z-index: 10; color: #000; top: -0.5em; padding: 2px 3px; position: absolute; font-size: 0.6em; font-weight: bold; line-height: 1; border-radius: 3px\">\n        EVENT\n    </span>\n</span>\n\n\n</span>\n\n<span style=\"font-weight: bold; display: inline-block; position: relative; height: 60px;\">\n    главой\n    \n<span style=\"background: #ddd; top: 40px; height: 4px; left: -1px; width: calc(100% + 2px); position: absolute;\">\n</span>\n\n    \n<span style=\"background: #ddd; top: 40px; height: 4px; border-top-left-radius: 3px; border-bottom-left-radius: 3px; left: -1px; width: calc(100% + 2px); position: absolute;\">\n    <span style=\"background: #ddd; z-index: 10; color: #000; top: -0.5em; padding: 2px 3px; position: absolute; font-size: 0.6em; font-weight: bold; line-height: 1; border-radius: 3px\">\n        PROFESSION\n    </span>\n</span>\n\n\n</span>\n\n<span style=\"font-weight: bold; display: inline-block; position: relative; height: 77px;\">\n    ЦРУ\n    \n<span style=\"background: #ddd; top: 40px; height: 4px; left: -1px; width: calc(100% + 2px); position: absolute;\">\n</span>\n\n<span style=\"background: #ddd; top: 57px; height: 4px; left: -1px; width: calc(100% + 2px); position: absolute;\">\n</span>\n\n    \n<span style=\"background: #ddd; top: 57px; height: 4px; border-top-left-radius: 3px; border-bottom-left-radius: 3px; left: -1px; width: calc(100% + 2px); position: absolute;\">\n    <span style=\"background: #ddd; z-index: 10; color: #000; top: -0.5em; padding: 2px 3px; position: absolute; font-size: 0.6em; font-weight: bold; line-height: 1; border-radius: 3px\">\n        ORGANIZATION\n    </span>\n</span>\n\n\n</span>\n\n<span style=\"font-weight: bold; display: inline-block; position: relative; height: 60px;\">\n    подавляющим\n    \n<span style=\"background: #ddd; top: 40px; height: 4px; left: -1px; width: calc(100% + 2px); position: absolute;\">\n</span>\n\n    \n<span style=\"background: #ddd; top: 40px; height: 4px; border-top-left-radius: 3px; border-bottom-left-radius: 3px; left: -1px; width: calc(100% + 2px); position: absolute;\">\n    <span style=\"background: #ddd; z-index: 10; color: #000; top: -0.5em; padding: 2px 3px; position: absolute; font-size: 0.6em; font-weight: bold; line-height: 1; border-radius: 3px\">\n        PROFESSION\n    </span>\n</span>\n\n\n</span>\n\n<span style=\"font-weight: bold; display: inline-block; position: relative; height: 60px;\">\n    большинством\n    \n<span style=\"background: #ddd; top: 40px; height: 4px; left: -1px; width: calc(100% + 2px); position: absolute;\">\n</span>\n\n    \n</span>\n\n<span style=\"font-weight: bold; display: inline-block; position: relative; height: 60px;\">\n    членов\n    \n<span style=\"background: #ddd; top: 40px; height: 4px; left: -1px; width: calc(100% + 2px); position: absolute;\">\n</span>\n\n    \n</span>\n\n<span style=\"font-weight: bold; display: inline-block; position: relative; height: 77px;\">\n    Сената\n    \n<span style=\"background: #ddd; top: 40px; height: 4px; left: -1px; width: calc(100% + 2px); position: absolute;\">\n</span>\n\n<span style=\"background: #ddd; top: 57px; height: 4px; left: -1px; width: calc(100% + 2px); position: absolute;\">\n</span>\n\n    \n<span style=\"background: #ddd; top: 57px; height: 4px; border-top-left-radius: 3px; border-bottom-left-radius: 3px; left: -1px; width: calc(100% + 2px); position: absolute;\">\n    <span style=\"background: #ddd; z-index: 10; color: #000; top: -0.5em; padding: 2px 3px; position: absolute; font-size: 0.6em; font-weight: bold; line-height: 1; border-radius: 3px\">\n        ORGANIZATION\n    </span>\n</span>\n\n\n</span>\n. Таким образом , \n<span style=\"font-weight: bold; display: inline-block; position: relative; height: 60px;\">\n    генерал\n    \n<span style=\"background: #ddd; top: 40px; height: 4px; left: -1px; width: calc(100% + 2px); position: absolute;\">\n</span>\n\n    \n<span style=\"background: #ddd; top: 40px; height: 4px; border-top-left-radius: 3px; border-bottom-left-radius: 3px; left: -1px; width: calc(100% + 2px); position: absolute;\">\n    <span style=\"background: #ddd; z-index: 10; color: #000; top: -0.5em; padding: 2px 3px; position: absolute; font-size: 0.6em; font-weight: bold; line-height: 1; border-radius: 3px\">\n        PROFESSION\n    </span>\n</span>\n\n\n</span>\nсменяет на этом посту \n<span style=\"font-weight: bold; display: inline-block; position: relative; height: 60px;\">\n    Леона\n    \n<span style=\"background: #aa9cfc; top: 40px; height: 4px; left: -1px; width: calc(100% + 2px); position: absolute;\">\n</span>\n\n    \n<span style=\"background: #aa9cfc; top: 40px; height: 4px; border-top-left-radius: 3px; border-bottom-left-radius: 3px; left: -1px; width: calc(100% + 2px); position: absolute;\">\n    <span style=\"background: #aa9cfc; z-index: 10; color: #000; top: -0.5em; padding: 2px 3px; position: absolute; font-size: 0.6em; font-weight: bold; line-height: 1; border-radius: 3px\">\n        PERSON\n    </span>\n</span>\n\n\n</span>\n\n<span style=\"font-weight: bold; display: inline-block; position: relative; height: 60px;\">\n    Панетту\n    \n<span style=\"background: #aa9cfc; top: 40px; height: 4px; left: -1px; width: calc(100% + 2px); position: absolute;\">\n</span>\n\n    \n</span>\n, который сегодня был \n<span style=\"font-weight: bold; display: inline-block; position: relative; height: 60px;\">\n    назначен\n    \n<span style=\"background: #ffeb80; top: 40px; height: 4px; left: -1px; width: calc(100% + 2px); position: absolute;\">\n</span>\n\n    \n<span style=\"background: #ffeb80; top: 40px; height: 4px; border-top-left-radius: 3px; border-bottom-left-radius: 3px; left: -1px; width: calc(100% + 2px); position: absolute;\">\n    <span style=\"background: #ffeb80; z-index: 10; color: #000; top: -0.5em; padding: 2px 3px; position: absolute; font-size: 0.6em; font-weight: bold; line-height: 1; border-radius: 3px\">\n        EVENT\n    </span>\n</span>\n\n\n</span>\n\n<span style=\"font-weight: bold; display: inline-block; position: relative; height: 77px;\">\n    министром\n    \n<span style=\"background: #ddd; top: 40px; height: 4px; left: -1px; width: calc(100% + 2px); position: absolute;\">\n</span>\n\n<span style=\"background: #ddd; top: 57px; height: 4px; left: -1px; width: calc(100% + 2px); position: absolute;\">\n</span>\n\n    \n<span style=\"background: #ddd; top: 40px; height: 4px; border-top-left-radius: 3px; border-bottom-left-radius: 3px; left: -1px; width: calc(100% + 2px); position: absolute;\">\n    <span style=\"background: #ddd; z-index: 10; color: #000; top: -0.5em; padding: 2px 3px; position: absolute; font-size: 0.6em; font-weight: bold; line-height: 1; border-radius: 3px\">\n        PROFESSION\n    </span>\n</span>\n\n\n<span style=\"background: #ddd; top: 57px; height: 4px; border-top-left-radius: 3px; border-bottom-left-radius: 3px; left: -1px; width: calc(100% + 2px); position: absolute;\">\n    <span style=\"background: #ddd; z-index: 10; color: #000; top: -0.5em; padding: 2px 3px; position: absolute; font-size: 0.6em; font-weight: bold; line-height: 1; border-radius: 3px\">\n        PROFESSION\n    </span>\n</span>\n\n\n</span>\n\n<span style=\"font-weight: bold; display: inline-block; position: relative; height: 77px;\">\n    обороны\n    \n<span style=\"background: #ddd; top: 40px; height: 4px; left: -1px; width: calc(100% + 2px); position: absolute;\">\n</span>\n\n<span style=\"background: #ddd; top: 57px; height: 4px; left: -1px; width: calc(100% + 2px); position: absolute;\">\n</span>\n\n    \n</span>\n\n<span style=\"font-weight: bold; display: inline-block; position: relative; height: 77px;\">\n    США\n    \n<span style=\"background: #ddd; top: 40px; height: 4px; left: -1px; width: calc(100% + 2px); position: absolute;\">\n</span>\n\n<span style=\"background: #ddd; top: 57px; height: 4px; left: -1px; width: calc(100% + 2px); position: absolute;\">\n</span>\n\n    \n<span style=\"background: #ddd; top: 57px; height: 4px; border-top-left-radius: 3px; border-bottom-left-radius: 3px; left: -1px; width: calc(100% + 2px); position: absolute;\">\n    <span style=\"background: #ddd; z-index: 10; color: #000; top: -0.5em; padding: 2px 3px; position: absolute; font-size: 0.6em; font-weight: bold; line-height: 1; border-radius: 3px\">\n        COUNTRY\n    </span>\n</span>\n\n\n</span>\nвместо ушедшего в \n<span style=\"font-weight: bold; display: inline-block; position: relative; height: 60px;\">\n    отставку\n    \n<span style=\"background: #ffeb80; top: 40px; height: 4px; left: -1px; width: calc(100% + 2px); position: absolute;\">\n</span>\n\n    \n<span style=\"background: #ffeb80; top: 40px; height: 4px; border-top-left-radius: 3px; border-bottom-left-radius: 3px; left: -1px; width: calc(100% + 2px); position: absolute;\">\n    <span style=\"background: #ffeb80; z-index: 10; color: #000; top: -0.5em; padding: 2px 3px; position: absolute; font-size: 0.6em; font-weight: bold; line-height: 1; border-radius: 3px\">\n        EVENT\n    </span>\n</span>\n\n\n</span>\n\n<span style=\"font-weight: bold; display: inline-block; position: relative; height: 60px;\">\n    Роберта\n    \n<span style=\"background: #aa9cfc; top: 40px; height: 4px; left: -1px; width: calc(100% + 2px); position: absolute;\">\n</span>\n\n    \n<span style=\"background: #aa9cfc; top: 40px; height: 4px; border-top-left-radius: 3px; border-bottom-left-radius: 3px; left: -1px; width: calc(100% + 2px); position: absolute;\">\n    <span style=\"background: #aa9cfc; z-index: 10; color: #000; top: -0.5em; padding: 2px 3px; position: absolute; font-size: 0.6em; font-weight: bold; line-height: 1; border-radius: 3px\">\n        PERSON\n    </span>\n</span>\n\n\n</span>\n\n<span style=\"font-weight: bold; display: inline-block; position: relative; height: 60px;\">\n    Гейтса\n    \n<span style=\"background: #aa9cfc; top: 40px; height: 4px; left: -1px; width: calc(100% + 2px); position: absolute;\">\n</span>\n\n    \n</span>\n. \n<span style=\"font-weight: bold; display: inline-block; position: relative; height: 60px;\">\n    Д.Петреус\n    \n<span style=\"background: #aa9cfc; top: 40px; height: 4px; left: -1px; width: calc(100% + 2px); position: absolute;\">\n</span>\n\n    \n<span style=\"background: #aa9cfc; top: 40px; height: 4px; border-top-left-radius: 3px; border-bottom-left-radius: 3px; left: -1px; width: calc(100% + 2px); position: absolute;\">\n    <span style=\"background: #aa9cfc; z-index: 10; color: #000; top: -0.5em; padding: 2px 3px; position: absolute; font-size: 0.6em; font-weight: bold; line-height: 1; border-radius: 3px\">\n        PERSON\n    </span>\n</span>\n\n\n</span>\nприступит к исполнению своих обязанностей в сентябре 2011 г. \n\n До сегодняшнего назначения \n<span style=\"font-weight: bold; display: inline-block; position: relative; height: 60px;\">\n    58-летний\n    \n<span style=\"background: #ddd; top: 40px; height: 4px; left: -1px; width: calc(100% + 2px); position: absolute;\">\n</span>\n\n    \n<span style=\"background: #ddd; top: 40px; height: 4px; border-top-left-radius: 3px; border-bottom-left-radius: 3px; left: -1px; width: calc(100% + 2px); position: absolute;\">\n    <span style=\"background: #ddd; z-index: 10; color: #000; top: -0.5em; padding: 2px 3px; position: absolute; font-size: 0.6em; font-weight: bold; line-height: 1; border-radius: 3px\">\n        AGE\n    </span>\n</span>\n\n\n</span>\n\n<span style=\"font-weight: bold; display: inline-block; position: relative; height: 60px;\">\n    Д.Петреус\n    \n<span style=\"background: #aa9cfc; top: 40px; height: 4px; left: -1px; width: calc(100% + 2px); position: absolute;\">\n</span>\n\n    \n<span style=\"background: #aa9cfc; top: 40px; height: 4px; border-top-left-radius: 3px; border-bottom-left-radius: 3px; left: -1px; width: calc(100% + 2px); position: absolute;\">\n    <span style=\"background: #aa9cfc; z-index: 10; color: #000; top: -0.5em; padding: 2px 3px; position: absolute; font-size: 0.6em; font-weight: bold; line-height: 1; border-radius: 3px\">\n        PERSON\n    </span>\n</span>\n\n\n</span>\nкомандовал контингентом \n<span style=\"font-weight: bold; display: inline-block; position: relative; height: 60px;\">\n    НАТО\n    \n<span style=\"background: #ddd; top: 40px; height: 4px; left: -1px; width: calc(100% + 2px); position: absolute;\">\n</span>\n\n    \n<span style=\"background: #ddd; top: 40px; height: 4px; border-top-left-radius: 3px; border-bottom-left-radius: 3px; left: -1px; width: calc(100% + 2px); position: absolute;\">\n    <span style=\"background: #ddd; z-index: 10; color: #000; top: -0.5em; padding: 2px 3px; position: absolute; font-size: 0.6em; font-weight: bold; line-height: 1; border-radius: 3px\">\n        ORGANIZATION\n    </span>\n</span>\n\n\n</span>\nв \n<span style=\"font-weight: bold; display: inline-block; position: relative; height: 60px;\">\n    Афганистане\n    \n<span style=\"background: #ddd; top: 40px; height: 4px; left: -1px; width: calc(100% + 2px); position: absolute;\">\n</span>\n\n    \n<span style=\"background: #ddd; top: 40px; height: 4px; border-top-left-radius: 3px; border-bottom-left-radius: 3px; left: -1px; width: calc(100% + 2px); position: absolute;\">\n    <span style=\"background: #ddd; z-index: 10; color: #000; top: -0.5em; padding: 2px 3px; position: absolute; font-size: 0.6em; font-weight: bold; line-height: 1; border-radius: 3px\">\n        COUNTRY\n    </span>\n</span>\n\n\n</span>\n. Теперь этот ставший вакантным пост займет \n<span style=\"font-weight: bold; display: inline-block; position: relative; height: 60px;\">\n    генерал\n    \n<span style=\"background: #ddd; top: 40px; height: 4px; left: -1px; width: calc(100% + 2px); position: absolute;\">\n</span>\n\n    \n<span style=\"background: #ddd; top: 40px; height: 4px; border-top-left-radius: 3px; border-bottom-left-radius: 3px; left: -1px; width: calc(100% + 2px); position: absolute;\">\n    <span style=\"background: #ddd; z-index: 10; color: #000; top: -0.5em; padding: 2px 3px; position: absolute; font-size: 0.6em; font-weight: bold; line-height: 1; border-radius: 3px\">\n        PROFESSION\n    </span>\n</span>\n\n\n</span>\n\n<span style=\"font-weight: bold; display: inline-block; position: relative; height: 60px;\">\n    -\n    \n<span style=\"background: #ddd; top: 40px; height: 4px; left: -1px; width: calc(100% + 2px); position: absolute;\">\n</span>\n\n    \n</span>\n\n<span style=\"font-weight: bold; display: inline-block; position: relative; height: 60px;\">\n    лейтенант\n    \n<span style=\"background: #ddd; top: 40px; height: 4px; left: -1px; width: calc(100% + 2px); position: absolute;\">\n</span>\n\n    \n</span>\n\n<span style=\"font-weight: bold; display: inline-block; position: relative; height: 60px;\">\n    Джон\n    \n<span style=\"background: #aa9cfc; top: 40px; height: 4px; left: -1px; width: calc(100% + 2px); position: absolute;\">\n</span>\n\n    \n<span style=\"background: #aa9cfc; top: 40px; height: 4px; border-top-left-radius: 3px; border-bottom-left-radius: 3px; left: -1px; width: calc(100% + 2px); position: absolute;\">\n    <span style=\"background: #aa9cfc; z-index: 10; color: #000; top: -0.5em; padding: 2px 3px; position: absolute; font-size: 0.6em; font-weight: bold; line-height: 1; border-radius: 3px\">\n        PERSON\n    </span>\n</span>\n\n\n</span>\n\n<span style=\"font-weight: bold; display: inline-block; position: relative; height: 60px;\">\n    Аллен\n    \n<span style=\"background: #aa9cfc; top: 40px; height: 4px; left: -1px; width: calc(100% + 2px); position: absolute;\">\n</span>\n\n    \n</span>\n. </div></span>"
     },
     "metadata": {},
     "output_type": "display_data"
    }
   ],
   "source": [
    "displacy.render(docs[0], style=\"span\")"
   ],
   "metadata": {
    "collapsed": false,
    "ExecuteTime": {
     "end_time": "2024-04-22T00:48:15.511956Z",
     "start_time": "2024-04-22T00:48:15.501472Z"
    }
   },
   "id": "989edd6f08f50118",
   "execution_count": 26
  },
  {
   "cell_type": "code",
   "outputs": [
    {
     "data": {
      "text/plain": "'PROFESSION'"
     },
     "execution_count": 48,
     "metadata": {},
     "output_type": "execute_result"
    }
   ],
   "source": [
    "docs[0].spans[\"sc\"][0].label_"
   ],
   "metadata": {
    "collapsed": false,
    "ExecuteTime": {
     "end_time": "2024-04-22T00:57:23.202679Z",
     "start_time": "2024-04-22T00:57:23.198725Z"
    }
   },
   "id": "b976542abae0eabb",
   "execution_count": 48
  },
  {
   "cell_type": "code",
   "outputs": [
    {
     "data": {
      "text/plain": "7"
     },
     "execution_count": 44,
     "metadata": {},
     "output_type": "execute_result"
    }
   ],
   "source": [
    "docs[0].spans[\"sc\"][0].end_char"
   ],
   "metadata": {
    "collapsed": false,
    "ExecuteTime": {
     "end_time": "2024-04-22T00:53:15.442284Z",
     "start_time": "2024-04-22T00:53:15.439002Z"
    }
   },
   "id": "b7d7916f307a2b06",
   "execution_count": 44
  },
  {
   "cell_type": "code",
   "outputs": [
    {
     "data": {
      "text/plain": "'Генерал Д.Петреус назначен на пост главы ЦРУ.\\n\\nГенерал Дэвид Петреус назначен на пост главы Центрального разведывательного управления (ЦРУ). Такое решение сегодня принял Сенат США, передает Reuters.\\n\\nСообщается, что Д.Петреус избран главой ЦРУ подавляющим большинством членов Сената. Таким образом, генерал сменяет на этом посту Леона Панетту, который сегодня был назначен министром обороны США вместо ушедшего в отставку Роберта Гейтса. Д.Петреус приступит к исполнению своих обязанностей в сентябре 2011г.\\n\\nДо сегодняшнего назначения 58-летний Д.Петреус командовал контингентом НАТО в Афганистане. Теперь этот ставший вакантным пост займет генерал-лейтенант Джон Аллен.'"
     },
     "execution_count": 58,
     "metadata": {},
     "output_type": "execute_result"
    }
   ],
   "source": [
    "docs[0].text"
   ],
   "metadata": {
    "collapsed": false,
    "ExecuteTime": {
     "end_time": "2024-04-22T01:06:47.327020Z",
     "start_time": "2024-04-22T01:06:47.322225Z"
    }
   },
   "id": "329a41fcfc45c2c9",
   "execution_count": 58
  },
  {
   "cell_type": "code",
   "outputs": [],
   "source": [
    "with open(\"../data/test.jsonl\", \"w\") as out_file, open(\n",
    "    \"../data/dev.jsonl\", \"r\"\n",
    ") as test_file:\n",
    "    for doc, test_line in zip(docs, test_file):\n",
    "        test_data = json.loads(test_line)\n",
    "        assert test_data[\"sentences\"][:10] == doc.text[:10]\n",
    "        print(\n",
    "            json.dumps(\n",
    "                {\n",
    "                    \"ners\": [\n",
    "                        [span.start_char, span.end_char - 1, span.label_]\n",
    "                        for span in doc.spans[\"sc\"]\n",
    "                    ],\n",
    "                    \"id\": test_data[\"id\"],\n",
    "                }\n",
    "            ),\n",
    "            file=out_file,\n",
    "        )"
   ],
   "metadata": {
    "collapsed": false,
    "ExecuteTime": {
     "end_time": "2024-04-22T01:07:07.724323Z",
     "start_time": "2024-04-22T01:07:07.698446Z"
    }
   },
   "id": "2008417aa24969f2",
   "execution_count": 60
  },
  {
   "cell_type": "markdown",
   "source": [
    "Leaderboard score (dev.jsonl): 0.67"
   ],
   "metadata": {
    "collapsed": false
   },
   "id": "b026358ebb14603c"
  },
  {
   "cell_type": "markdown",
   "source": [
    "## Inference on test set"
   ],
   "metadata": {
    "collapsed": false
   },
   "id": "d915f0678a34a2ea"
  },
  {
   "cell_type": "code",
   "outputs": [
    {
     "name": "stdout",
     "output_type": "stream",
     "text": [
      "\u001B[38;5;4mℹ Using CPU\u001B[0m\r\n",
      "\u001B[38;5;4mℹ To switch to GPU 0, use the option: --gpu-id 0\u001B[0m\r\n",
      "/home/eugen/coding/inno_labs/nlp-s24/venv/lib/python3.11/site-packages/transformers/utils/generic.py:441: UserWarning: torch.utils._pytree._register_pytree_node is deprecated. Please use torch.utils._pytree.register_pytree_node instead.\r\n",
      "  _torch_pytree._register_pytree_node(\r\n",
      "/home/eugen/coding/inno_labs/nlp-s24/venv/lib/python3.11/site-packages/transformers/utils/generic.py:309: UserWarning: torch.utils._pytree._register_pytree_node is deprecated. Please use torch.utils._pytree.register_pytree_node instead.\r\n",
      "  _torch_pytree._register_pytree_node(\r\n",
      "/home/eugen/coding/inno_labs/nlp-s24/venv/lib/python3.11/site-packages/transformers/utils/generic.py:309: UserWarning: torch.utils._pytree._register_pytree_node is deprecated. Please use torch.utils._pytree.register_pytree_node instead.\r\n",
      "  _torch_pytree._register_pytree_node(\r\n",
      "\u001B[38;5;2m✔ Loaded model model-best\u001B[0m\r\n",
      "65it [00:28,  2.32it/s]\r\n"
     ]
    }
   ],
   "source": [
    "!spacy apply model-best ../data/test_set.jsonl predictions.spacy -tk sentences -F"
   ],
   "metadata": {
    "collapsed": false,
    "ExecuteTime": {
     "end_time": "2024-04-26T06:41:45.626654Z",
     "start_time": "2024-04-26T06:40:59.846785Z"
    }
   },
   "id": "6419c97605be6fb8",
   "execution_count": 5
  },
  {
   "cell_type": "code",
   "outputs": [],
   "source": [
    "import os\n",
    "import warnings\n",
    "import json\n",
    "\n",
    "os.environ[\"TF_CPP_MIN_LOG_LEVEL\"] = \"3\"\n",
    "warnings.filterwarnings(\"ignore\")\n",
    "\n",
    "import spacy\n",
    "from spacy.tokens import DocBin"
   ],
   "metadata": {
    "collapsed": false,
    "ExecuteTime": {
     "end_time": "2024-04-26T06:41:51.938070Z",
     "start_time": "2024-04-26T06:41:51.932089Z"
    }
   },
   "id": "b01f81a2cae18b7a",
   "execution_count": 6
  },
  {
   "cell_type": "code",
   "outputs": [],
   "source": [
    "db = DocBin().from_disk(\"predictions.spacy\")\n",
    "docs = list(db.get_docs(spacy.blank(\"ru\").vocab))"
   ],
   "metadata": {
    "collapsed": false,
    "ExecuteTime": {
     "end_time": "2024-04-26T06:41:54.053653Z",
     "start_time": "2024-04-26T06:41:52.632414Z"
    }
   },
   "id": "4d2a4cdb8814c441",
   "execution_count": 7
  },
  {
   "cell_type": "code",
   "outputs": [],
   "source": [
    "with open(\"../data/test.jsonl\", \"w\") as out_file, open(\n",
    "    \"../data/test_set.jsonl\", \"r\"\n",
    ") as test_file:\n",
    "    for doc, test_line in zip(docs, test_file):\n",
    "        test_data = json.loads(test_line)\n",
    "        assert test_data[\"sentences\"][:10] == doc.text[:10]\n",
    "        print(\n",
    "            json.dumps(\n",
    "                {\n",
    "                    \"ners\": [\n",
    "                        [span.start_char, span.end_char - 1, span.label_]\n",
    "                        for span in doc.spans[\"sc\"]\n",
    "                    ],\n",
    "                    \"id\": test_data[\"id\"],\n",
    "                }\n",
    "            ),\n",
    "            file=out_file,\n",
    "        )"
   ],
   "metadata": {
    "collapsed": false,
    "ExecuteTime": {
     "end_time": "2024-04-26T06:41:54.588479Z",
     "start_time": "2024-04-26T06:41:54.531677Z"
    }
   },
   "id": "1c122b7f1970f7c",
   "execution_count": 8
  },
  {
   "cell_type": "markdown",
   "source": [
    "Leaderboard score (test.jsonl): 0.73"
   ],
   "metadata": {
    "collapsed": false
   },
   "id": "8c99cefda0420d13"
  }
 ]
}
