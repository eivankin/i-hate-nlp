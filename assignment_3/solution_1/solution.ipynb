{
 "cells": [
  {
   "cell_type": "markdown",
   "source": [
    "# Zero-shot NER with GLiNER"
   ],
   "metadata": {
    "collapsed": false
   },
   "id": "ff6029a560d734d5"
  },
  {
   "cell_type": "markdown",
   "source": [
    "I made a small research on pretrained nested NER models and have found quite recent paper \"[GLiNER: Generalist Model for Named Entity Recognition using Bidirectional Transformer](https://arxiv.org/abs/2311.08526)\" submitted last November. Authors report that their model outperforms LLMs at zero-shot NER and requires much less computation resources. Fortunately, their model had multilingual version and was accompanied by a nice wrapping Python library, so I decided to try it out."
   ],
   "metadata": {
    "collapsed": false
   },
   "id": "5e4159179736d8cd"
  },
  {
   "cell_type": "code",
   "outputs": [
    {
     "name": "stderr",
     "output_type": "stream",
     "text": [
      "2024-04-14 23:59:17.123834: I tensorflow/core/platform/cpu_feature_guard.cc:210] This TensorFlow binary is optimized to use available CPU instructions in performance-critical operations.\n",
      "To enable the following instructions: AVX2 FMA, in other operations, rebuild TensorFlow with the appropriate compiler flags.\n",
      "2024-04-14 23:59:18.242300: W tensorflow/compiler/tf2tensorrt/utils/py_utils.cc:38] TF-TRT Warning: Could not find TensorRT\n"
     ]
    }
   ],
   "source": [
    "from pathlib import Path\n",
    "import warnings\n",
    "import json\n",
    "from tqdm import tqdm\n",
    "\n",
    "warnings.filterwarnings(\"ignore\")\n",
    "\n",
    "from gliner import GLiNER"
   ],
   "metadata": {
    "collapsed": false,
    "ExecuteTime": {
     "end_time": "2024-04-14T20:59:20.506426Z",
     "start_time": "2024-04-14T20:59:12.636696Z"
    }
   },
   "id": "4b96d89076f26b1",
   "execution_count": 1
  },
  {
   "cell_type": "code",
   "outputs": [],
   "source": [
    "model = GLiNER.from_pretrained(\"urchade/gliner_multi-v2.1\", map_location=\"cuda\").cuda()"
   ],
   "metadata": {
    "collapsed": false,
    "ExecuteTime": {
     "end_time": "2024-04-14T20:59:27.792920Z",
     "start_time": "2024-04-14T20:59:20.507544Z"
    }
   },
   "id": "f26cc6a9938386ea",
   "execution_count": 2
  },
  {
   "cell_type": "markdown",
   "source": [
    "## Example with nested NER"
   ],
   "metadata": {
    "collapsed": false
   },
   "id": "8f981cb9fa3521ce"
  },
  {
   "cell_type": "code",
   "outputs": [
    {
     "name": "stdout",
     "output_type": "stream",
     "text": [
      "{'start': 1, 'end': 7, 'text': 'Moscow', 'label': 'CITY', 'score': 0.9573017358779907}\n",
      "{'start': 1, 'end': 21, 'text': 'Moscow Drama Theater', 'label': 'ORGANIZATION', 'score': 0.8920192718505859}\n",
      "{'start': 34, 'end': 49, 'text': 'M. N. Yermolova', 'label': 'PERSON', 'score': 0.787686288356781}\n"
     ]
    }
   ],
   "source": [
    "text = \"\"\"\n",
    "Moscow Drama Theater named after M. N. Yermolova\n",
    "\"\"\"\n",
    "\n",
    "labels = [\"CITY\", \"ORGANIZATION\", \"PERSON\"]\n",
    "\n",
    "entities = model.predict_entities(text, labels, flat_ner=False, threshold=0.5)\n",
    "\n",
    "for entity in entities:\n",
    "    print(entity)"
   ],
   "metadata": {
    "collapsed": false,
    "ExecuteTime": {
     "end_time": "2024-04-14T20:59:27.982425Z",
     "start_time": "2024-04-14T20:59:27.793963Z"
    }
   },
   "id": "83390574847721fc",
   "execution_count": 3
  },
  {
   "cell_type": "code",
   "outputs": [
    {
     "data": {
      "text/plain": "['Moscow',\n 'Drama',\n 'Theater',\n 'named',\n 'after',\n 'M',\n '.',\n 'N',\n '.',\n 'Yermolova']"
     },
     "execution_count": 4,
     "metadata": {},
     "output_type": "execute_result"
    }
   ],
   "source": [
    "tokens = [tk for tk, _, _ in model.token_splitter(text)]\n",
    "tokens"
   ],
   "metadata": {
    "collapsed": false,
    "ExecuteTime": {
     "end_time": "2024-04-14T20:59:27.989550Z",
     "start_time": "2024-04-14T20:59:27.983645Z"
    }
   },
   "id": "b6022d7fdbe94201",
   "execution_count": 4
  },
  {
   "cell_type": "code",
   "outputs": [
    {
     "name": "stdout",
     "output_type": "stream",
     "text": [
      "P: 66.67%\tR: 66.67%\tF1: 66.67%\n"
     ]
    }
   ],
   "source": [
    "print(model.evaluate(\n",
    "    [{\"tokenized_text\": tokens, \"ner\": [[0, 9, \"ORGANIZATION\"], [0, 0, \"CITY\"], [5, 9, \"PERSON\"]]}],\n",
    "    flat_ner=False, entity_types=labels)[0])"
   ],
   "metadata": {
    "collapsed": false,
    "ExecuteTime": {
     "end_time": "2024-04-14T20:59:28.027426Z",
     "start_time": "2024-04-14T20:59:27.992634Z"
    }
   },
   "id": "27122d1e94b2dbf8",
   "execution_count": 5
  },
  {
   "cell_type": "markdown",
   "source": [
    "## Eval on the train set"
   ],
   "metadata": {
    "collapsed": false
   },
   "id": "3d180718120ddc7c"
  },
  {
   "cell_type": "code",
   "outputs": [],
   "source": [
    "DATA_PATH = Path(\"../data\")"
   ],
   "metadata": {
    "collapsed": false,
    "ExecuteTime": {
     "end_time": "2024-04-14T20:59:28.031148Z",
     "start_time": "2024-04-14T20:59:28.028576Z"
    }
   },
   "id": "84d9782a28e38a0d",
   "execution_count": 6
  },
  {
   "cell_type": "code",
   "outputs": [
    {
     "name": "stdout",
     "output_type": "stream",
     "text": [
      "29 ['AGE', 'AWARD', 'CITY', 'COUNTRY', 'CRIME', 'DATE', 'DISEASE', 'DISTRICT', 'EVENT', 'FACILITY', 'FAMILY', 'IDEOLOGY', 'LANGUAGE', 'LAW', 'LOCATION', 'MONEY', 'NATIONALITY', 'NUMBER', 'ORDINAL', 'ORGANIZATION', 'PENALTY', 'PERCENT', 'PERSON', 'PRODUCT', 'PROFESSION', 'RELIGION', 'STATE_OR_PROVINCE', 'TIME', 'WORK_OF_ART']\n"
     ]
    }
   ],
   "source": [
    "labels = (DATA_PATH / \"ners.txt\").read_text().split()\n",
    "print(len(labels), labels)"
   ],
   "metadata": {
    "collapsed": false,
    "ExecuteTime": {
     "end_time": "2024-04-14T20:59:28.037887Z",
     "start_time": "2024-04-14T20:59:28.033325Z"
    }
   },
   "id": "21706a5195450112",
   "execution_count": 7
  },
  {
   "cell_type": "code",
   "outputs": [],
   "source": [
    "train_data = [json.loads(line) for line in\n",
    "              (DATA_PATH / \"train.jsonl\").read_text().strip().split(\"\\n\")]"
   ],
   "metadata": {
    "collapsed": false,
    "ExecuteTime": {
     "end_time": "2024-04-14T20:59:28.258853Z",
     "start_time": "2024-04-14T20:59:28.038961Z"
    }
   },
   "id": "878d753dc28d835a",
   "execution_count": 8
  },
  {
   "cell_type": "code",
   "outputs": [
    {
     "data": {
      "text/plain": "{'ners': [[0, 4, 'PERSON'],\n  [16, 25, 'PROFESSION'],\n  [27, 38, 'PERSON'],\n  [85, 96, 'PERSON'],\n  [98, 106, 'PROFESSION'],\n  [112, 124, 'PERSON'],\n  [154, 163, 'PROFESSION'],\n  [165, 176, 'PERSON'],\n  [200, 233, 'DATE'],\n  [300, 306, 'DATE'],\n  [328, 339, 'COUNTRY'],\n  [359, 373, 'PERSON'],\n  [388, 393, 'PERSON'],\n  [397, 408, 'PERSON'],\n  [448, 474, 'DATE'],\n  [510, 514, 'PERSON'],\n  [528, 544, 'FACILITY'],\n  [656, 664, 'AGE'],\n  [706, 717, 'COUNTRY'],\n  [769, 778, 'DATE'],\n  [820, 827, 'DATE'],\n  [882, 893, 'PERSON'],\n  [1027, 1043, 'TIME'],\n  [1047, 1052, 'ORDINAL'],\n  [1064, 1079, 'PROFESSION'],\n  [1186, 1197, 'PERSON'],\n  [1270, 1281, 'COUNTRY'],\n  [1293, 1297, 'PERSON'],\n  [1300, 1306, 'NATIONALITY'],\n  [1316, 1323, 'NATIONALITY'],\n  [1336, 1342, 'PERSON'],\n  [1426, 1435, 'COUNTRY'],\n  [1447, 1462, 'PERSON'],\n  [1466, 1473, 'DATE'],\n  [1524, 1525, 'NUMBER'],\n  [1542, 1543, 'NUMBER'],\n  [1554, 1563, 'NATIONALITY'],\n  [1578, 1596, 'PERSON'],\n  [1623, 1629, 'FACILITY'],\n  [1643, 1659, 'PERSON'],\n  [1670, 1675, 'ORDINAL'],\n  [1716, 1725, 'COUNTRY'],\n  [1763, 1777, 'PERSON'],\n  [1780, 1783, 'DATE'],\n  [1786, 1789, 'DATE'],\n  [1794, 1805, 'PERSON'],\n  [853, 855, 'NUMBER'],\n  [42, 83, 'EVENT'],\n  [108, 110, 'COUNTRY'],\n  [98, 110, 'PROFESSION'],\n  [194, 196, 'FACILITY'],\n  [6, 14, 'EVENT'],\n  [138, 150, 'EVENT'],\n  [341, 349, 'PROFESSION'],\n  [546, 556, 'FACILITY'],\n  [666, 671, 'PERSON'],\n  [719, 729, 'PROFESSION'],\n  [1283, 1291, 'PROFESSION'],\n  [1308, 1312, 'PERSON'],\n  [1325, 1332, 'PERSON'],\n  [1437, 1445, 'PROFESSION'],\n  [352, 357, 'EVENT'],\n  [236, 275, 'EVENT']],\n 'sentences': 'Трамп поздравил астронавта Пегги Уитсон с установлением рекорда пребывания в космосе\\nПегги Уитсон\\nПрезидент США Дональд Трамп обратился с поздравлением к астронавту Пегги Уитсон, находящейся на МКС и в понедельник, 24 апреля 2017 года, установившей рекорд пребывания в космосе: она провела на орбите 534 дня\\xa0— больше, чем любой американский астронавт. Беседа Дональда Трампа и его дочери Иванки с Пегги Уитсон проходит в режиме видеоконференции.\\n\\n«Пятьсот тридцать четыре дня… Это невероятный рекорд,\\xa0— сказал Трамп, находясь в Овальном кабинете Белого дома.\\xa0— От имени нашей страны, а откровенно говоря\\xa0— от лица всего мира\\xa0— я хотел бы вас поздравить».\\n\\n57-летняя Уитсон обладает наибольшим опытом среди американских астронавтов-женщин. Вернуться на Землю она должна в сентябре; к этому моменту она пробудет в космосе 666 дней (эта цифра включает все три её космических полёта).\\n\\nПегги Уитсон принадлежат все женские космические рекорды: самое длительное пребывание на орбите, самое длительное пребывание в открытом космосе (53 часа 22 минуты), первая женщина — командир экипажа, а кроме того, недавно она стала самым пожилым человеком, вышедшим в открытый космос.\\n\\nВ настоящее время Пегги Уитсон возглавляет международный космический экипаж, в состав которого входят американский астронавт Фишер, француз Песке и россияне Новицкий и Юрчихин.\\n\\nАбсолютный рекорд по суммарной продолжительности пребывания в космосе установил российский космонавт Геннадий Падалка\\xa0— 878 дней.\\n\\nЗа историю освоения космоса на орбите побывало 60 женщин, причём 45 из них\\xa0— американки; первой была Валентина Терешкова, вслед за ней на станцию Салют-7 отправилась Светлана Савицкая, ставшая первой женщиной в открытом космосе. В составе российских экипажей орбитальных станций летали Елена Кондакова (1994, 1997) и Елена Серова (2014).\\n',\n 'id': 518}"
     },
     "execution_count": 9,
     "metadata": {},
     "output_type": "execute_result"
    }
   ],
   "source": [
    "train_data[-1]"
   ],
   "metadata": {
    "collapsed": false,
    "ExecuteTime": {
     "end_time": "2024-04-14T20:59:28.265858Z",
     "start_time": "2024-04-14T20:59:28.259850Z"
    }
   },
   "id": "d0c84ded4beba8ee",
   "execution_count": 9
  },
  {
   "cell_type": "code",
   "outputs": [],
   "source": [
    "def convert_to_gliner_format(data: dict) -> dict:\n",
    "    tokens = []\n",
    "    pos_to_token_idx = {}\n",
    "    for idx, (token, start, end) in enumerate(model.token_splitter(data[\"sentences\"])):\n",
    "        tokens.append(token)\n",
    "        for pos in range(start, end):\n",
    "            pos_to_token_idx[pos] = idx\n",
    "\n",
    "    return {\"tokenized_text\": tokens,\n",
    "            \"ner\": [[pos_to_token_idx[start], pos_to_token_idx[end], label] for start, end, label in\n",
    "                    data.get(\"ners\", [])]}"
   ],
   "metadata": {
    "collapsed": false,
    "ExecuteTime": {
     "end_time": "2024-04-14T21:13:06.436688Z",
     "start_time": "2024-04-14T21:13:06.429744Z"
    }
   },
   "id": "b36eb735f4d09000",
   "execution_count": 14
  },
  {
   "cell_type": "code",
   "outputs": [
    {
     "name": "stderr",
     "output_type": "stream",
     "text": [
      "100%|██████████| 519/519 [00:00<00:00, 4477.02it/s]\n"
     ]
    }
   ],
   "source": [
    "converted = [convert_to_gliner_format(example) for example in tqdm(train_data)]"
   ],
   "metadata": {
    "collapsed": false,
    "ExecuteTime": {
     "end_time": "2024-04-14T20:59:28.394477Z",
     "start_time": "2024-04-14T20:59:28.271450Z"
    }
   },
   "id": "d0987e315fae0171",
   "execution_count": 11
  },
  {
   "cell_type": "code",
   "outputs": [],
   "source": [
    "BATCH_SIZE = 4"
   ],
   "metadata": {
    "collapsed": false,
    "ExecuteTime": {
     "end_time": "2024-04-14T21:11:03.174490Z",
     "start_time": "2024-04-14T21:11:03.169387Z"
    }
   },
   "id": "37a891d3e31aa54d",
   "execution_count": 13
  },
  {
   "cell_type": "code",
   "outputs": [
    {
     "name": "stdout",
     "output_type": "stream",
     "text": [
      "P: 79.82%\tR: 26.55%\tF1: 39.84%\n"
     ]
    }
   ],
   "source": [
    "print(model.evaluate(converted, flat_ner=False, entity_types=labels, batch_size=BATCH_SIZE)[0])"
   ],
   "metadata": {
    "collapsed": false,
    "ExecuteTime": {
     "end_time": "2024-04-14T21:01:11.466900Z",
     "start_time": "2024-04-14T20:59:28.395744Z"
    }
   },
   "id": "4b8d0a6882f6414c",
   "execution_count": 12
  },
  {
   "cell_type": "markdown",
   "source": [
    "I am pleased with the fact that I was able to run this model on my laptop GPU, and it performed quite OK in terms of scores. Unfortunately, this library does not support changing the `average` parameter for F1 metric, so the results above are for `micro` average."
   ],
   "metadata": {
    "collapsed": false
   },
   "id": "4c223d056d5d55ab"
  },
  {
   "cell_type": "markdown",
   "source": [
    "## Making a submission"
   ],
   "metadata": {
    "collapsed": false
   },
   "id": "2eebd0a5afe1ec8f"
  },
  {
   "cell_type": "code",
   "outputs": [],
   "source": [
    "test_data = [json.loads(line) for line in (DATA_PATH / \"dev.jsonl\").read_text().strip().split(\"\\n\")]\n",
    "test_texts = [data[\"sentences\"] for data in test_data]"
   ],
   "metadata": {
    "collapsed": false,
    "ExecuteTime": {
     "end_time": "2024-04-14T21:24:44.932091Z",
     "start_time": "2024-04-14T21:24:44.920954Z"
    }
   },
   "id": "d6cb3157586eb2b7",
   "execution_count": 21
  },
  {
   "cell_type": "code",
   "outputs": [
    {
     "name": "stderr",
     "output_type": "stream",
     "text": [
      "100%|██████████| 17/17 [00:16<00:00,  1.00it/s]\n"
     ]
    }
   ],
   "source": [
    "def make_batches(data: list[dict], batch_size: int):\n",
    "    return [data[i:i + batch_size] for i in range(0, len(data), batch_size)]\n",
    "\n",
    "all_preds = []\n",
    "for batch in tqdm(make_batches(test_texts, BATCH_SIZE)):\n",
    "    all_preds.extend(model.batch_predict_entities(batch, labels, flat_ner=False))"
   ],
   "metadata": {
    "collapsed": false,
    "ExecuteTime": {
     "end_time": "2024-04-14T21:26:40.169861Z",
     "start_time": "2024-04-14T21:26:23.217561Z"
    }
   },
   "id": "7f962c0f8de385a8",
   "execution_count": 25
  },
  {
   "cell_type": "code",
   "outputs": [
    {
     "data": {
      "text/plain": "(65,\n [{'start': 0,\n   'end': 17,\n   'text': 'Генерал Д.Петреус',\n   'label': 'PERSON',\n   'score': 0.8841291069984436},\n  {'start': 0,\n   'end': 7,\n   'text': 'Генерал',\n   'label': 'PERSON',\n   'score': 0.8152154684066772},\n  {'start': 8,\n   'end': 17,\n   'text': 'Д.Петреус',\n   'label': 'PERSON',\n   'score': 0.7756668329238892},\n  {'start': 41,\n   'end': 44,\n   'text': 'ЦРУ',\n   'label': 'ORGANIZATION',\n   'score': 0.9806093573570251},\n  {'start': 47,\n   'end': 68,\n   'text': 'Генерал Дэвид Петреус',\n   'label': 'PERSON',\n   'score': 0.9436295628547668}])"
     },
     "execution_count": 26,
     "metadata": {},
     "output_type": "execute_result"
    }
   ],
   "source": [
    "len(all_preds), all_preds[0][:5]"
   ],
   "metadata": {
    "collapsed": false,
    "ExecuteTime": {
     "end_time": "2024-04-14T21:26:40.830402Z",
     "start_time": "2024-04-14T21:26:40.822574Z"
    }
   },
   "id": "d29f6b944d6cdce4",
   "execution_count": 26
  },
  {
   "cell_type": "code",
   "outputs": [
    {
     "data": {
      "text/plain": "31565"
     },
     "execution_count": 30,
     "metadata": {},
     "output_type": "execute_result"
    }
   ],
   "source": [
    "(DATA_PATH / \"test.jsonl\").write_text(\"\\n\".join(json.dumps({\"ners\": [[p[\"start\"], p[\"end\"] - 1, p[\"label\"]] for p in preds], \"id\": data[\"id\"]}) for preds, data in zip(all_preds, test_data)))"
   ],
   "metadata": {
    "collapsed": false,
    "ExecuteTime": {
     "end_time": "2024-04-14T21:37:29.371344Z",
     "start_time": "2024-04-14T21:37:29.359284Z"
    }
   },
   "id": "8de98bc778a141e6",
   "execution_count": 30
  },
  {
   "cell_type": "markdown",
   "source": [
    "Score on leaderboard: 0.25"
   ],
   "metadata": {
    "collapsed": false
   },
   "id": "2a9b026791bacfa4"
  }
 ],
 "metadata": {
  "kernelspec": {
   "display_name": "Python 3",
   "language": "python",
   "name": "python3"
  },
  "language_info": {
   "codemirror_mode": {
    "name": "ipython",
    "version": 2
   },
   "file_extension": ".py",
   "mimetype": "text/x-python",
   "name": "python",
   "nbconvert_exporter": "python",
   "pygments_lexer": "ipython2",
   "version": "2.7.6"
  }
 },
 "nbformat": 4,
 "nbformat_minor": 5
}
